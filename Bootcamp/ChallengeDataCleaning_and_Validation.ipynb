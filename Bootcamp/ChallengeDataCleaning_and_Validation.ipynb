{
 "cells": [
  {
   "cell_type": "markdown",
   "metadata": {},
   "source": [
    "# Data Cleaning Challenge"
   ]
  },
  {
   "cell_type": "markdown",
   "metadata": {},
   "source": [
    "Thinkful Bootcamp Course\n",
    "\n",
    "Author: Ian Heaton\n",
    "\n",
    "Email: iheaton@gmail.com\n",
    "\n",
    "Mentor: Nemanja Radojkovic\n",
    "\n",
    "Date: 2017/02/16\n"
   ]
  },
  {
   "cell_type": "code",
   "execution_count": 1,
   "metadata": {
    "collapsed": true
   },
   "outputs": [],
   "source": [
    "import pandas as pd\n",
    "import matplotlib.pyplot as plt\n",
    "import numpy as np\n",
    "import re\n",
    "import seaborn as sns\n",
    "%matplotlib inline\n",
    "sns.set_style('darkgrid')"
   ]
  },
  {
   "cell_type": "markdown",
   "metadata": {},
   "source": [
    "Below is the Python code that performs all of the heavy lefting to clean and Impute the Wellcome trust journal data."
   ]
  },
  {
   "cell_type": "code",
   "execution_count": 25,
   "metadata": {
    "collapsed": false
   },
   "outputs": [],
   "source": [
    "PMCregex = r'PMC\\d+'\n",
    "PMIDregex = r'PMID:\\s?\\d+'\n",
    "\n",
    "# The dictionary serves to convert publisher and journal names into the most\n",
    "# common occurrences contained with the CSV file. For example converting\n",
    "# abbreviated journal names to the full name. Note, these may not be accurate.\n",
    "# The keys assume that text has been converted to lower case and then converted\n",
    "# to title case.  In other words, the keys do not exist in the raw file until\n",
    "# they have ran through the convert_journal_pub_names function.\n",
    "\n",
    "PUB_JOURNAL_LOOKUP = {\n",
    "    'Acs': 'American Chemical Society',\n",
    "    'Acs (Amercian Chemical Society) Publications': 'American Chemical Society',\n",
    "    'Asm': 'American Society for Microbiology',\n",
    "    'Biomed Central Limited': 'BioMed Central',\n",
    "    'Biomed Central Ltd':'BioMed Central',\n",
    "    'Bmj':'British Medical Journal',\n",
    "    'Bmj Group':'British Medical Journal',\n",
    "    'Bmj Publishing Group':'British Medical Journal',\n",
    "    'Bmj Publishing Group Ltd':'British Medical Journal',\n",
    "    'Cadmus':'Cadmus Journal Services',\n",
    "    'Cambridge Journals':'Cambridge University Press',\n",
    "    'Cambridge Uni Press':'Cambridge University Press',\n",
    "    'Cambridge Univ Press':'Cambridge University Press',\n",
    "    'Cenveo Publisher Services/ASM JV1': 'Cenveo Publisher Services',\n",
    "    'Cold Spring Habour Press':'Cold Spring Harbor Laboratory Press',\n",
    "    'Cold Spring Harbor Press':'Cold Spring Harbor Laboratory Press',\n",
    "    'Cold Spring Harbor Publications':'Cold Spring Harbor Laboratory Press',\n",
    "    'Dartmouth Journals':'Dartmouth Journal Services',\n",
    "    'Elseveier Science':'Elsevier',\n",
    "    'Faseb':'Federation of American Societies for Experimental Biology',\n",
    "    'Federation of American Societies for Experimental Biology (FASEB)':'Federation of American Societies for Experimental Biology',\n",
    "    'Oup':'Oxford University Press',\n",
    "    'Oxford Univ Pres':'Oxford University Press',\n",
    "    'Oxford Journals':'Oxford University Press',\n",
    "    'Oxford Journals (OUP)':'Oxford University Press',\n",
    "    'Plos':'Public Library of Science',\n",
    "    'Plos (Public Library of Science)':'Public Library of Science',\n",
    "    'Royal Society': 'Royal Society of Chemistry',\n",
    "    'Rsc':'Royal Society of Chemistry',\n",
    "    'Rsc Publishing':'Royal Society of Chemistry',\n",
    "    'Aids':'Journal of Acquired Immune Deficiency Syndromes',\n",
    "    'Aids Journal':'Journal of Acquired Immune Deficiency Syndromes',\n",
    "    'Aids UK':'Journal of Acquired Immune Deficiency Syndromes',\n",
    "    'Jaids Journal of Acquired Immune Deficiency Syndromes':'Journal of Acquired Immune Deficiency Syndromes',\n",
    "    'Journal of Acquired Immune Deficiency Syndroms (JAIDS)':'Journal of Acquired Immune Deficiency Syndromes',\n",
    "    'Journal of AIDS':'Journal of Acquired Immune Deficiency Syndromes',\n",
    "    'Plos 1':'Plos One',\n",
    "    'Neuroimage':'NeuroImage'\n",
    "}\n",
    "\n",
    "def retrieve_metadata(dataframe):\n",
    "    \"\"\"\n",
    "     Extracts the shape, column names and number of null rows for\n",
    "     each column of a Pandas data frame. This information is printed\n",
    "     to standard ouput.\n",
    "\n",
    "     Args:\n",
    "        dataframe (dataframe): The Pandas data frame of interest\n",
    "\n",
    "     Returns:\n",
    "        Nothing\n",
    "    \"\"\"\n",
    "    num_rows, num_columns = dataframe.shape\n",
    "    columns = dataframe.columns.values.tolist()\n",
    "    print('Data frame contains %d columns and %d rows' % (num_columns, num_rows))\n",
    "    for elem in columns:\n",
    "        print('column %s has %d empty rows'% (elem, sum(dataframe[elem].isnull())))\n",
    "\n",
    "\n",
    "def _search_pmcid_regex(id_str):\n",
    "    \"\"\"\n",
    "    Tries to match the string containing the journal ID against\n",
    "    a PMCID regex. Returns the first instance of a match.\n",
    "\n",
    "     Args:\n",
    "        id_str (str): Cell contents of the ‘'PMID/PMCID' column.\n",
    "\n",
    "     Returns:\n",
    "       tuple: A tuple containing boolean and string containing\n",
    "       the new ID.  The boolean may have a value of true indicating\n",
    "       that a sub string matched the regular expression or false otherwise.\n",
    "       If false the match str is empty.\n",
    "    \"\"\"\n",
    "    result = False\n",
    "    match_str = ''\n",
    "    try:\n",
    "        match_str = re.search(PMCregex, id_str).group()\n",
    "        result = True\n",
    "    except AttributeError:\n",
    "        pass\n",
    "    return result, match_str\n",
    "\n",
    "\n",
    "def _search_pmid_regex(id_str):\n",
    "    \"\"\"\n",
    "     Tries to match the string containing the journal ID against\n",
    "    a Pub Med regex. Returns the first instance of a match.\n",
    "\n",
    "     Args:\n",
    "        id_str (str): Cell contents of the ‘'PMID/PMCID' column.\n",
    "\n",
    "     Returns:\n",
    "       tuple: A tuple containing boolean and string containing\n",
    "       the new ID.  The boolean may have a value of true indicating\n",
    "       that a sub string matched the regular expression or false otherwise.\n",
    "       If false the match str is empty.\n",
    "    \"\"\"\n",
    "    result = False\n",
    "    match_str = ''\n",
    "    try:\n",
    "        match_str = re.search(PMIDregex, id_str).group()\n",
    "        match_str = match_str.replace(':', '')\n",
    "        match_str = match_str.replace(' ', '')\n",
    "        result = True\n",
    "    except AttributeError:\n",
    "        pass\n",
    "    return result, match_str\n",
    "\n",
    "\n",
    "def pmcid_pmid_converter(id_str):\n",
    "    \"\"\"\n",
    "     Specialized data massaging function for Wellcome trust data.\n",
    "     This function should only be run on the first column containing\n",
    "     the label ‘PMC ID/PMID’.\n",
    "     The following assumptions and conversions are carried out;\n",
    "\n",
    "        1. Those id numbers starting with 3 are PMCID ids\n",
    "        2. Those id numbers starting with 2 are PMID ids\n",
    "        3. Those ids without prefix will have either PMIC or PMID appended\n",
    "        4. NA values will be kept\n",
    "        5. Any other text in a row that does not adherer to the above two\n",
    "           forms will be dropped and replaced with NA.\n",
    "        6. Cells that have both PMIC and PMID identifiers will have\n",
    "           the 2nd id dropped. Only one id is necessary.\n",
    "\n",
    "     Args:\n",
    "        id_str (str): String instance containing a cells entire text.\n",
    "\n",
    "     Returns:\n",
    "        str: string instance containing either NA, PMCID* or PMID*\n",
    "    \"\"\"\n",
    "    data = str(id_str)\n",
    "    data = data.strip('\\n')\n",
    "    has_pmcid_match = False\n",
    "    has_pmid_match = False\n",
    "    match_pmcid_str = ''\n",
    "    match_pmid_str = ''\n",
    "    result_str = ''\n",
    "\n",
    "    has_pmcid_match, match_pmcid_str = _search_pmcid_regex(data)\n",
    "    has_pmid_match, match_pmid_str = _search_pmid_regex(data)\n",
    "\n",
    "    if has_pmcid_match or has_pmid_match:\n",
    "        if has_pmcid_match:\n",
    "            result_str = match_pmcid_str\n",
    "        elif has_pmid_match:\n",
    "            result_str = match_pmid_str\n",
    "    elif data.isdigit():\n",
    "        if data[0] == '2':\n",
    "            result_str = 'PMID' + data\n",
    "        elif data[0] == '3':\n",
    "            result_str = 'PMCID' + data\n",
    "    else:\n",
    "        result_str = 'NA'\n",
    "\n",
    "    return result_str\n",
    "\n",
    "\n",
    "def remove_money_symbols(string):\n",
    "    \"\"\"\n",
    "    Removes the pound symbol and trailing dollar sign symbols from\n",
    "    the Cost data. Resulting data is converted to type float.\n",
    "\n",
    "    Args:\n",
    "        string (str): string instance housing cell contents.\n",
    "\n",
    "    Returns:\n",
    "        float: Cost of journal article represented as a float\n",
    "    \"\"\"\n",
    "    string = string.replace('$', '')\n",
    "    return float(string[1:])\n",
    "\n",
    "\n",
    "def remove_cost_outliers(cost, threshold):\n",
    "    \"\"\"\n",
    "    Sets any cost values that are equal to or greater than threshold\n",
    "    to NaN (Not a Number). Any values that less than one are also set\n",
    "    to not a number.\n",
    "\n",
    "    Args:\n",
    "        cost (float):           cost value to be capped.\n",
    "        threshold (decimal):    Outlier threshold\n",
    "\n",
    "    Returns:\n",
    "        float: Resulting NaN\n",
    "    \"\"\"\n",
    "    result = cost\n",
    "    if cost >= threshold or cost < 1:\n",
    "        result = float('nan')\n",
    "    return result\n",
    "\n",
    "\n",
    "def convert_journal_pub_names(string):\n",
    "    \"\"\"\n",
    "    Converts journal and Publication names into title case and transforms string\n",
    "    into a generalized name. These generalized terms are housed in a dictionary\n",
    "    and exchanged for the most least used term or mis spelled text. For example\n",
    "    changing ‘Neuroimgae’ into ‘NeuroImage’\n",
    "\n",
    "    Args:\n",
    "        string (str): Publication or Journal column cell contents.\n",
    "\n",
    "    Returns:\n",
    "        str: The converted cell contents as a string instance.\n",
    "    \"\"\"\n",
    "    string = str(string)\n",
    "    string = string.lower()\n",
    "    result = string.title()\n",
    "    if result in PUB_JOURNAL_LOOKUP:\n",
    "        result = PUB_JOURNAL_LOOKUP.get(result)\n",
    "    return result"
   ]
  },
  {
   "cell_type": "markdown",
   "metadata": {},
   "source": [
    "### Step 1"
   ]
  },
  {
   "cell_type": "markdown",
   "metadata": {},
   "source": [
    "Data is read in from the CSV file and set of meta data is retrieved from the data frame to get an idea on the amount of missing data.  A function is then applied to the data of the ‘PMID/PMCID’ column that convert each cell text to either PMC*, PMID* or NA. "
   ]
  },
  {
   "cell_type": "code",
   "execution_count": 26,
   "metadata": {
    "collapsed": false
   },
   "outputs": [
    {
     "name": "stdout",
     "output_type": "stream",
     "text": [
      "Data frame contains 5 columns and 2127 rows\n",
      "column PMID/PMCID has 199 empty rows\n",
      "column Publisher has 0 empty rows\n",
      "column Journal title has 1 empty rows\n",
      "column Article title has 0 empty rows\n",
      "column COST (�) charged to Wellcome (inc VAT when charged) has 0 empty rows\n"
     ]
    }
   ],
   "source": [
    "file_path = '/media/ianh/space/ThinkfulData/WelcomeTrust/WELLCOME_APCspend2013_forThinkful.csv'\n",
    "data_frame = pd.read_csv(file_path)\n",
    "retrieve_metadata(data_frame)"
   ]
  },
  {
   "cell_type": "code",
   "execution_count": 27,
   "metadata": {
    "collapsed": false
   },
   "outputs": [
    {
     "name": "stdout",
     "output_type": "stream",
     "text": [
      "Data frame contains 1 columns and 2127 rows\n",
      "column ID has 0 empty rows\n"
     ]
    }
   ],
   "source": [
    "NewIDColumn_Df = pd.DataFrame({'ID':data_frame['PMID/PMCID'].apply(pmcid_pmid_converter)})\n",
    "retrieve_metadata(NewIDColumn_Df)"
   ]
  },
  {
   "cell_type": "markdown",
   "metadata": {},
   "source": [
    "### Step 2"
   ]
  },
  {
   "cell_type": "markdown",
   "metadata": {},
   "source": [
    "The cost column is now altered to remove any money symbols and converted to float so that proper statistics can be performed on the column. Next a boxplot is created for the Journal costs to identify the range of values and to find any outliers. \n",
    "\n",
    "It is obvious from the describe method and the box plot that any value over 4000 pounds is an outlier. In fact the resulting plot had to have its x axis limited to 5000 to visualize the box plot correctly. \n"
   ]
  },
  {
   "cell_type": "code",
   "execution_count": 28,
   "metadata": {
    "collapsed": false
   },
   "outputs": [
    {
     "name": "stdout",
     "output_type": "stream",
     "text": [
      "                Cost\n",
      "count    2127.000000\n",
      "mean    24060.945990\n",
      "std    146861.672509\n",
      "min         0.000000\n",
      "25%      1272.925000\n",
      "50%      1883.710000\n",
      "75%      2321.305000\n",
      "max    999999.000000\n"
     ]
    },
    {
     "data": {
      "image/png": "[encoded data removed]",
      "text/plain": [
       "<matplotlib.figure.Figure at 0x7f9333fca9e8>"
      ]
     },
     "metadata": {},
     "output_type": "display_data"
    }
   ],
   "source": [
    "column_name = 'COST (�) charged to Wellcome (inc VAT when charged)'\n",
    "NewCost1stPass_Df = pd.DataFrame({'Cost':data_frame[column_name].apply(remove_money_symbols)})\n",
    "print(NewCost1stPass_Df.describe())\n",
    "sns.boxplot(x=\"Cost\", data=NewCost1stPass_Df)\n",
    "sns.plt.title('Wellcome Journal Costs')\n",
    "sns.plt.xlim(0, 5000)\n",
    "plt.show()"
   ]
  },
  {
   "cell_type": "markdown",
   "metadata": {},
   "source": [
    "Any values that are equal to zero or greater than the 4th quartile are set to ‘NaN’ and thereafter dropped from any further analysis.  Since we have do not have any idea what the proper amount for the journal coast it seems safer to drop these rows from analysis then assigning the max or mean value to these."
   ]
  },
  {
   "cell_type": "code",
   "execution_count": 30,
   "metadata": {
    "collapsed": false
   },
   "outputs": [
    {
     "data": {
      "text/html": [
       "<div>\n",
       "<table border=\"1\" class=\"dataframe\">\n",
       "  <thead>\n",
       "    <tr style=\"text-align: right;\">\n",
       "      <th></th>\n",
       "      <th>Cost</th>\n",
       "    </tr>\n",
       "  </thead>\n",
       "  <tbody>\n",
       "    <tr>\n",
       "      <th>count</th>\n",
       "      <td>1866.000000</td>\n",
       "    </tr>\n",
       "    <tr>\n",
       "      <th>mean</th>\n",
       "      <td>1647.321715</td>\n",
       "    </tr>\n",
       "    <tr>\n",
       "      <th>std</th>\n",
       "      <td>584.959255</td>\n",
       "    </tr>\n",
       "    <tr>\n",
       "      <th>min</th>\n",
       "      <td>9.930000</td>\n",
       "    </tr>\n",
       "    <tr>\n",
       "      <th>25%</th>\n",
       "      <td>1156.845000</td>\n",
       "    </tr>\n",
       "    <tr>\n",
       "      <th>50%</th>\n",
       "      <td>1759.185000</td>\n",
       "    </tr>\n",
       "    <tr>\n",
       "      <th>75%</th>\n",
       "      <td>2132.922500</td>\n",
       "    </tr>\n",
       "    <tr>\n",
       "      <th>max</th>\n",
       "      <td>2498.610000</td>\n",
       "    </tr>\n",
       "  </tbody>\n",
       "</table>\n",
       "</div>"
      ],
      "text/plain": [
       "              Cost\n",
       "count  1866.000000\n",
       "mean   1647.321715\n",
       "std     584.959255\n",
       "min       9.930000\n",
       "25%    1156.845000\n",
       "50%    1759.185000\n",
       "75%    2132.922500\n",
       "max    2498.610000"
      ]
     },
     "execution_count": 30,
     "metadata": {},
     "output_type": "execute_result"
    }
   ],
   "source": [
    "NewCost2ndPass_df = pd.DataFrame({'Cost':NewCost1stPass_Df['Cost'].apply(remove_cost_outliers, args=(2500,))})\n",
    "NewCost2ndPass_df.describe()"
   ]
  },
  {
   "cell_type": "markdown",
   "metadata": {},
   "source": [
    "### Step 3"
   ]
  },
  {
   "cell_type": "markdown",
   "metadata": {},
   "source": [
    "The last processing step is the amalgamation of the newly created data frames in a larger data frame containing all of the columns so that statistics can be run on the data. "
   ]
  },
  {
   "cell_type": "code",
   "execution_count": 31,
   "metadata": {
    "collapsed": false
   },
   "outputs": [],
   "source": [
    "NewPublisherColumn_Df = pd.DataFrame({'Publisher':data_frame['Publisher'].apply(convert_journal_pub_names)})\n",
    "NewJournalColumn_Df = pd.DataFrame({'Journal title':data_frame['Journal title'].apply(convert_journal_pub_names)})"
   ]
  },
  {
   "cell_type": "code",
   "execution_count": 32,
   "metadata": {
    "collapsed": false
   },
   "outputs": [],
   "source": [
    "NewIDColumn_Df['Cost'] = NewCost2ndPass_df['Cost']\n",
    "NewIDColumn_Df['Publisher'] = NewPublisherColumn_Df['Publisher']\n",
    "NewIDColumn_Df['Journal title'] = NewJournalColumn_Df['Journal title']\n",
    "NewIDColumn_Df['Article title'] = data_frame['Article title']"
   ]
  },
  {
   "cell_type": "markdown",
   "metadata": {},
   "source": [
    "### Step 4 Statistical processing"
   ]
  },
  {
   "cell_type": "markdown",
   "metadata": {},
   "source": [
    "#### 1. Determine the most and least expensive journals and publishers"
   ]
  },
  {
   "cell_type": "code",
   "execution_count": 33,
   "metadata": {
    "collapsed": false
   },
   "outputs": [
    {
     "name": "stdout",
     "output_type": "stream",
     "text": [
      "             ID     Cost Publisher       Journal title  \\\n",
      "483  PMC3639368  2498.61  Elsevier  Brain And Language   \n",
      "\n",
      "                                         Article title  \n",
      "483  Current themes in neuroimaging studies of Reading  \n"
     ]
    }
   ],
   "source": [
    "max_cost = NewIDColumn_Df['Cost'].max()\n",
    "print(NewIDColumn_Df[(NewIDColumn_Df.Cost == max_cost)])"
   ]
  },
  {
   "cell_type": "code",
   "execution_count": 34,
   "metadata": {
    "collapsed": false,
    "scrolled": true
   },
   "outputs": [
    {
     "name": "stdout",
     "output_type": "stream",
     "text": [
      "             ID  Cost       Publisher        Journal title  \\\n",
      "243  PMC3716626  9.93  BioMed Central  Veterinary Research   \n",
      "\n",
      "                                         Article title  \n",
      "243  Understanding foot-and-mouth disease virus tra...  \n"
     ]
    }
   ],
   "source": [
    "min_cost = NewIDColumn_Df['Cost'].min()\n",
    "print(NewIDColumn_Df[(NewIDColumn_Df.Cost == min_cost)])"
   ]
  },
  {
   "cell_type": "markdown",
   "metadata": {},
   "source": [
    "#### 2. Determine mean and median of open-access price paid per article"
   ]
  },
  {
   "cell_type": "code",
   "execution_count": 35,
   "metadata": {
    "collapsed": false
   },
   "outputs": [
    {
     "data": {
      "text/plain": [
       "count    1866.000000\n",
       "mean     1647.321715\n",
       "std       584.959255\n",
       "min         9.930000\n",
       "25%      1156.845000\n",
       "50%      1759.185000\n",
       "75%      2132.922500\n",
       "max      2498.610000\n",
       "Name: Cost, dtype: float64"
      ]
     },
     "execution_count": 35,
     "metadata": {},
     "output_type": "execute_result"
    }
   ],
   "source": [
    "NewIDColumn_Df['Cost'].describe()"
   ]
  }
 ],
 "metadata": {
  "kernelspec": {
   "display_name": "Python 3",
   "language": "python",
   "name": "python3"
  },
  "language_info": {
   "codemirror_mode": {
    "name": "ipython",
    "version": 3
   },
   "file_extension": ".py",
   "mimetype": "text/x-python",
   "name": "python",
   "nbconvert_exporter": "python",
   "pygments_lexer": "ipython3",
   "version": "3.5.2"
  }
 },
 "nbformat": 4,
 "nbformat_minor": 1
}
