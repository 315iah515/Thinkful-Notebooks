{
 "cells": [
  {
   "cell_type": "markdown",
   "metadata": {},
   "source": [
    "Thinkful Bootcamp Course\n",
    "\n",
    "Author: Ian Heaton\n",
    "\n",
    "Email: iheaton@gmail.com\n",
    "\n",
    "Mentor: Nemanja Radojkovic\n",
    "\n",
    "Date: 2017/06/13\n"
   ]
  },
  {
   "cell_type": "code",
   "execution_count": 1,
   "metadata": {},
   "outputs": [
    {
     "name": "stderr",
     "output_type": "stream",
     "text": [
      "/usr/local/lib/python3.5/dist-packages/sklearn/cross_validation.py:44: DeprecationWarning: This module was deprecated in version 0.18 in favor of the model_selection module into which all the refactored classes and functions are moved. Also note that the interface of the new CV iterators are different from that of this module. This module will be removed in 0.20.\n",
      "  \"This module will be removed in 0.20.\", DeprecationWarning)\n",
      "/usr/local/lib/python3.5/dist-packages/sklearn/grid_search.py:43: DeprecationWarning: This module was deprecated in version 0.18 in favor of the model_selection module into which all the refactored classes and functions are moved. This module will be removed in 0.20.\n",
      "  DeprecationWarning)\n"
     ]
    }
   ],
   "source": [
    "import warnings\n",
    "warnings.filterwarnings(\"ignore\", category=DeprecationWarning)\n",
    "\n",
    "import pandas as pd\n",
    "import numpy as np\n",
    "import matplotlib.pyplot as plt\n",
    "import seaborn as sb\n",
    "import sklearn\n",
    "import spacy\n",
    "import re\n",
    "\n",
    "from nltk.corpus import gutenberg, stopwords\n",
    "from sklearn.feature_extraction.text import TfidfTransformer\n",
    "from sklearn.feature_extraction.text import TfidfVectorizer\n",
    "from sklearn.model_selection import cross_val_score\n",
    "from sklearn.preprocessing import StandardScaler\n",
    "from sklearn.metrics import classification_report\n",
    "from sklearn.model_selection import train_test_split\n",
    "from sklearn.grid_search import GridSearchCV\n",
    "from sklearn import ensemble\n",
    "from sklearn import metrics\n",
    "from collections import Counter\n",
    "\n",
    "%matplotlib inline\n",
    "\n",
    "sb.set_style('darkgrid')\n",
    "my_dpi = 96"
   ]
  },
  {
   "cell_type": "markdown",
   "metadata": {},
   "source": [
    "# Classification of Lewis Carroll and Jane Austen works using Natural Language Processing \n",
    "\n",
    "\n",
    "## Question:\n",
    "How well can term frequency of two documents be used in the classification of these texts? Can term frequency-inverse document frequency produce better accuracy scores when used to classify three different texts?\n",
    "\n",
    "### Data:\n",
    "The three texts to be sued in the classification are\n",
    "1.\tAlice's Adventures in Wonderland by Lewis Carrol\n",
    "2.\tPersuasion by Jane Austen\n",
    "3.\tMoby Dick by Herman Melville\n",
    "\n"
   ]
  },
  {
   "cell_type": "code",
   "execution_count": 2,
   "metadata": {
    "collapsed": true
   },
   "outputs": [],
   "source": [
    "# Utility function for standard text cleaning.\n",
    "def text_cleaner(text):\n",
    "    # Visual inspection identifies a form of punctuation spaCy does not\n",
    "    # recognize: the double dash '--'.  Better get rid of it now!\n",
    "    text = re.sub(r'--',' ',text)\n",
    "    text = re.sub(\"[\\[].*?[\\]]\", \"\", text)\n",
    "    text = ' '.join(text.split())\n",
    "    return text\n",
    "    \n",
    "# Load and clean the data.\n",
    "persuasion = gutenberg.raw('austen-persuasion.txt')\n",
    "alice = gutenberg.raw('carroll-alice.txt')\n",
    "\n",
    "# The Chapter indicator is idiosyncratic\n",
    "persuasion = re.sub(r'Chapter \\d+', '', persuasion)\n",
    "alice = re.sub(r'CHAPTER .*', '', alice)\n",
    "    \n",
    "alice = text_cleaner(alice)\n",
    "persuasion = text_cleaner(persuasion)"
   ]
  },
  {
   "cell_type": "markdown",
   "metadata": {},
   "source": [
    "### Preprocessing and exploratory data analysis\n",
    "\n",
    "Load the two novels of interest Alice in Wonderland and Jane Austens Persuasion."
   ]
  },
  {
   "cell_type": "code",
   "execution_count": 3,
   "metadata": {
    "collapsed": true
   },
   "outputs": [],
   "source": [
    "# Parse the cleaned novels. This can take a bit.\n",
    "nlp = spacy.load('en')\n",
    "alice_doc = nlp(alice)\n",
    "persuasion_doc = nlp(persuasion)"
   ]
  },
  {
   "cell_type": "code",
   "execution_count": 4,
   "metadata": {},
   "outputs": [
    {
     "name": "stdout",
     "output_type": "stream",
     "text": [
      "\n",
      "Austen     3361\n",
      "Carroll    1179\n",
      "Name: author, dtype: int64 \n",
      "\n"
     ]
    },
    {
     "data": {
      "text/html": [
       "<div>\n",
       "<table border=\"1\" class=\"dataframe\">\n",
       "  <thead>\n",
       "    <tr style=\"text-align: right;\">\n",
       "      <th></th>\n",
       "      <th>sentence</th>\n",
       "      <th>author</th>\n",
       "    </tr>\n",
       "  </thead>\n",
       "  <tbody>\n",
       "    <tr>\n",
       "      <th>0</th>\n",
       "      <td>(Alice, was, beginning, to, get, very, tired, ...</td>\n",
       "      <td>Carroll</td>\n",
       "    </tr>\n",
       "    <tr>\n",
       "      <th>1</th>\n",
       "      <td>(So, she, was, considering, in, her, own, mind...</td>\n",
       "      <td>Carroll</td>\n",
       "    </tr>\n",
       "    <tr>\n",
       "      <th>2</th>\n",
       "      <td>(There, was, nothing, so, VERY, remarkable, in...</td>\n",
       "      <td>Carroll</td>\n",
       "    </tr>\n",
       "    <tr>\n",
       "      <th>3</th>\n",
       "      <td>(Oh, dear, !, I, shall, be, late, !, ')</td>\n",
       "      <td>Carroll</td>\n",
       "    </tr>\n",
       "    <tr>\n",
       "      <th>4</th>\n",
       "      <td>((, when, she, thought, it, over, afterwards, ...</td>\n",
       "      <td>Carroll</td>\n",
       "    </tr>\n",
       "  </tbody>\n",
       "</table>\n",
       "</div>"
      ],
      "text/plain": [
       "                                            sentence   author\n",
       "0  (Alice, was, beginning, to, get, very, tired, ...  Carroll\n",
       "1  (So, she, was, considering, in, her, own, mind...  Carroll\n",
       "2  (There, was, nothing, so, VERY, remarkable, in...  Carroll\n",
       "3            (Oh, dear, !, I, shall, be, late, !, ')  Carroll\n",
       "4  ((, when, she, thought, it, over, afterwards, ...  Carroll"
      ]
     },
     "execution_count": 4,
     "metadata": {},
     "output_type": "execute_result"
    }
   ],
   "source": [
    "# Group into sentences.\n",
    "alice_sents = [[sent, \"Carroll\"] for sent in alice_doc.sents]\n",
    "persuasion_sents = [[sent, \"Austen\"] for sent in persuasion_doc.sents]\n",
    "\n",
    "# Combine the sentences from the two novels into one data frame.\n",
    "sentences = pd.DataFrame(alice_sents + persuasion_sents)\n",
    "sentences.columns = ['sentence', 'author']\n",
    "print('\\n%s \\n' % sentences.author.value_counts())\n",
    "sentences.head()"
   ]
  },
  {
   "cell_type": "markdown",
   "metadata": {},
   "source": [
    "We next collect all the words from both texts that are not stop words, punctuation and find the root words.  For the resulting set of words the part of speech are collected and the percentage os computed each part of speech for both texts. The results are plotted in a bar graph to determine how different the part of speech usage between the texts is."
   ]
  },
  {
   "cell_type": "code",
   "execution_count": 36,
   "metadata": {
    "collapsed": true
   },
   "outputs": [],
   "source": [
    "# Creates a data frame with features for each word in our common word set.\n",
    "# Each value is the count of the times the word appears in each sentence.\n",
    "def bow_features(sentences, common_words):\n",
    "    \n",
    "    # Scaffold the data frame and initialize counts to zero.\n",
    "    df = pd.DataFrame(columns=common_words)\n",
    "    df['text_sentence'] = sentences.sentence\n",
    "    df['text_source'] = sentences.author\n",
    "    df.loc[:, common_words] = 0\n",
    "    \n",
    "    # Process each row, counting the occurrence of words in each sentence.\n",
    "    for i, sentence in enumerate(df['text_sentence']):\n",
    "        \n",
    "        # Convert the sentence to lemmas, then filter out punctuation,\n",
    "        # stop words, and uncommon words.\n",
    "        words = [token.lemma_\n",
    "                 for token in sentence\n",
    "                 if (\n",
    "                     not token.is_punct\n",
    "                     and not token.is_stop\n",
    "                     and token.lemma_ in common_words\n",
    "                 )]\n",
    "        \n",
    "        # Populate the row with word counts.\n",
    "        for word in words:\n",
    "            df.loc[i, word] += 1\n",
    "        \n",
    "        # This counter is just to make sure the kernel didn't hang.\n",
    "        if i % 500 == 0:\n",
    "            print(\"Processing row {}\".format(i))\n",
    "            \n",
    "    return df\n",
    "\n",
    "\n",
    "def normalize_text(text, most_common=None):\n",
    "    \n",
    "    # Filter out punctuation and stop words.\n",
    "    allwords = [token.lemma_ for token in text if not token.is_punct and not token.is_stop]\n",
    "    \n",
    "    # Return the most common words.\n",
    "    if most_common:\n",
    "        return [item[0] for item in Counter(allwords).most_common(most_common)]\n",
    "    else:\n",
    "        return allwords\n",
    "\n",
    "    \n",
    "def tfidf_transformer(bow_matrix):\n",
    "    \n",
    "    transformer = TfidfTransformer(norm='l2',\n",
    "                                   smooth_idf=True,\n",
    "                                   use_idf=True)\n",
    "    tfidf_matrix = transformer.fit_transform(bow_matrix)\n",
    "    return transformer, tfidf_matrix\n",
    "    \n",
    "    \n",
    "def tfidf_extractor(corpus, ngram_range=(1,1)):\n",
    "    \n",
    "    vectorizer = TfidfVectorizer(min_df=1, \n",
    "                                 smooth_idf=True,\n",
    "                                 use_idf=True,\n",
    "                                 norm='l2',\n",
    "                                 ngram_range=ngram_range)\n",
    "    features = vectorizer.fit_transform(corpus)\n",
    "    return vectorizer, features\n",
    "\n",
    "\n",
    "def create_tfidf_features(words):\n",
    "\n",
    "    print('Number of words before vectorizer %d' % len(words))\n",
    "    tfidf_vect, tdidf_features = tfidf_extractor(words)\n",
    "    features = np.round(tdidf_features.todense(), 2)\n",
    "    #features = tdidf_features.todense()\n",
    "    word_matrix = pd.DataFrame(features, columns=tfidf_vect.get_feature_names())\n",
    "    \n",
    "    print('\\n --- The number of observations after vectorizer : %d\\n' % (word_matrix.shape[0]))\n",
    "    return word_matrix, features\n",
    "    \n",
    "    \n",
    "def sentence_vectorizer(sentence):\n",
    "    sent_vec = np.zeros(400)\n",
    "    numw = 0\n",
    "    for w in sentence:\n",
    "        try:\n",
    "            # assumes spaCy word vectors\n",
    "            sent_vec = np.add(sent_vec, w.vector)\n",
    "            numw+=1\n",
    "        except:\n",
    "            pass\n",
    "    return sent_vec / np.sqrt(sent_vec.dot(sent_vec))\n",
    "\n",
    "\n",
    "def build_avg_sentence_vector_feature(sentences):\n",
    "    feature_vector = np.zeros((500,),dtype=\"float64\")\n",
    "    for sent in enumerate(sentences['sentence']):\n",
    "        feature_vector = np.append(feature_vector, sentence_vectorizer(sent))\n",
    "        \n",
    "    return feature_vector\n",
    "    "
   ]
  },
  {
   "cell_type": "markdown",
   "metadata": {},
   "source": [
    "Since spaCy has already tokenized and labelled our data, we can move directly to recording how often various words occur. We will exclude stopwords and punctuation. In addition, in an attempt to keep our feature space from exploding, we will work with lemmas (root words) rather than the raw text terms, and we'll only use the 3000 most common words for each text.\n",
    "\n",
    "As an improvement to the bag of words model used in the original version of this notebook is a Term Frequency-Inverse Document Frequency model will be used.  The bag of words model is based on the absolute frequences of word usage. Those words that tend to be used through the texts will overshadow those words that are not used as often. These other words may be more interesting if they can help determine the writing style of an author. If this can be done our model will be likely to have higher accuracy for classifying books that it has not seen before.\n",
    "\n",
    "An advantage to using TF-IDF is that  the inverse document frequency factor will reduce the weight of words that occur very frequently in the document set such the word ‘the’ and increases the weight of terms that occur rarely.  Together TF-IDF tend to reduce common words. "
   ]
  },
  {
   "cell_type": "code",
   "execution_count": 6,
   "metadata": {},
   "outputs": [
    {
     "data": {
      "text/plain": [
       "<matplotlib.figure.Figure at 0x7fb688d766d8>"
      ]
     },
     "metadata": {},
     "output_type": "display_data"
    },
    {
     "data": {
      "image/png": "[encoded data removed]",
      "text/plain": [
       "<matplotlib.figure.Figure at 0x7fb688d07278>"
      ]
     },
     "metadata": {},
     "output_type": "display_data"
    }
   ],
   "source": [
    "alicewords = normalize_text(alice_doc)\n",
    "persuasionwords = normalize_text(persuasion_doc)\n",
    "# Make a quick-and-dirty lookup table of POS IDs, \n",
    "# since the default representation of a POS is numeric. \n",
    "tagDict = {w.pos: w.pos_ for w in alice_doc} \n",
    "\n",
    "alicePOS = pd.Series(alice_doc.count_by(spacy.attrs.POS))/len(alice_doc)\n",
    "persuasionPOS = pd.Series(persuasion_doc.count_by(spacy.attrs.POS))/len(persuasion_doc)\n",
    "\n",
    "df = pd.DataFrame([alicePOS, persuasionPOS], index=['Alice', 'Persuasion'])\n",
    "df.columns = [tagDict[column] for column in df.columns]\n",
    "__ = plt.figure(figsize=(800/my_dpi, 800/my_dpi), dpi=my_dpi)\n",
    "__ = df.T.plot(kind='bar')"
   ]
  },
  {
   "cell_type": "code",
   "execution_count": 118,
   "metadata": {},
   "outputs": [
    {
     "name": "stdout",
     "output_type": "stream",
     "text": [
      "Processing row 0\n",
      "Processing row 500\n",
      "Processing row 1000\n",
      "Processing row 1500\n",
      "Processing row 2000\n",
      "Processing row 2500\n",
      "Processing row 3000\n",
      "Processing row 3500\n",
      "Processing row 4000\n",
      "Processing row 4500\n"
     ]
    },
    {
     "name": "stderr",
     "output_type": "stream",
     "text": [
      "/usr/local/lib/python3.5/dist-packages/ipykernel_launcher.py:9: FutureWarning: convert_objects is deprecated.  Use the data-type specific converters pd.to_datetime, pd.to_timedelta and pd.to_numeric.\n",
      "  if __name__ == '__main__':\n"
     ]
    },
    {
     "name": "stdout",
     "output_type": "stream",
     "text": [
      "(4540, 2)\n",
      "\n",
      "Number of Sentences is : 4540\n",
      "\n",
      "Number of Words is : 4938\n"
     ]
    }
   ],
   "source": [
    "# we will use the 5000 most common words\n",
    "alicewords = normalize_text(alice_doc, most_common=5000)\n",
    "persuasionwords = normalize_text(persuasion_doc, most_common=5000)\n",
    "common_words = set(alicewords + persuasionwords)\n",
    "\n",
    "# the following function will return a data frame and a numpy matrix\n",
    "bow_df = bow_features(sentences, common_words)\n",
    "df = bow_df.drop(['text_sentence','text_source'], axis=1)\n",
    "df = df.convert_objects(convert_numeric=True)\n",
    "\n",
    "X = np.array(df)\n",
    "\n",
    "__, X =  tfidf_transformer(X)\n",
    "\n",
    "\n",
    "print(sentences.shape)\n",
    "print('\\nNumber of Sentences is : %d' % X.shape[0])\n",
    "print('\\nNumber of Words is : %d' % X.shape[1])"
   ]
  },
  {
   "cell_type": "code",
   "execution_count": 119,
   "metadata": {},
   "outputs": [
    {
     "name": "stdout",
     "output_type": "stream",
     "text": [
      "(4540, 14)\n",
      "(4540, 4952)\n"
     ]
    },
    {
     "data": {
      "text/html": [
       "<div>\n",
       "<table border=\"1\" class=\"dataframe\">\n",
       "  <thead>\n",
       "    <tr style=\"text-align: right;\">\n",
       "      <th></th>\n",
       "      <th>ADJ</th>\n",
       "      <th>ADP</th>\n",
       "      <th>ADV</th>\n",
       "      <th>CCONJ</th>\n",
       "      <th>DET</th>\n",
       "      <th>INTJ</th>\n",
       "      <th>NOUN</th>\n",
       "      <th>NUM</th>\n",
       "      <th>PART</th>\n",
       "      <th>PRON</th>\n",
       "      <th>PROPN</th>\n",
       "      <th>PUNCT</th>\n",
       "      <th>VERB</th>\n",
       "      <th>X</th>\n",
       "    </tr>\n",
       "  </thead>\n",
       "  <tbody>\n",
       "    <tr>\n",
       "      <th>0</th>\n",
       "      <td>3</td>\n",
       "      <td>8</td>\n",
       "      <td>3</td>\n",
       "      <td>6</td>\n",
       "      <td>5</td>\n",
       "      <td>0</td>\n",
       "      <td>12</td>\n",
       "      <td>0</td>\n",
       "      <td>3</td>\n",
       "      <td>3</td>\n",
       "      <td>2</td>\n",
       "      <td>9</td>\n",
       "      <td>13</td>\n",
       "      <td>0</td>\n",
       "    </tr>\n",
       "    <tr>\n",
       "      <th>1</th>\n",
       "      <td>7</td>\n",
       "      <td>8</td>\n",
       "      <td>7</td>\n",
       "      <td>2</td>\n",
       "      <td>6</td>\n",
       "      <td>0</td>\n",
       "      <td>8</td>\n",
       "      <td>0</td>\n",
       "      <td>1</td>\n",
       "      <td>4</td>\n",
       "      <td>2</td>\n",
       "      <td>7</td>\n",
       "      <td>11</td>\n",
       "      <td>0</td>\n",
       "    </tr>\n",
       "    <tr>\n",
       "      <th>2</th>\n",
       "      <td>2</td>\n",
       "      <td>6</td>\n",
       "      <td>1</td>\n",
       "      <td>1</td>\n",
       "      <td>3</td>\n",
       "      <td>2</td>\n",
       "      <td>2</td>\n",
       "      <td>0</td>\n",
       "      <td>1</td>\n",
       "      <td>2</td>\n",
       "      <td>4</td>\n",
       "      <td>4</td>\n",
       "      <td>5</td>\n",
       "      <td>0</td>\n",
       "    </tr>\n",
       "    <tr>\n",
       "      <th>3</th>\n",
       "      <td>1</td>\n",
       "      <td>0</td>\n",
       "      <td>0</td>\n",
       "      <td>0</td>\n",
       "      <td>0</td>\n",
       "      <td>2</td>\n",
       "      <td>0</td>\n",
       "      <td>0</td>\n",
       "      <td>0</td>\n",
       "      <td>1</td>\n",
       "      <td>0</td>\n",
       "      <td>3</td>\n",
       "      <td>2</td>\n",
       "      <td>0</td>\n",
       "    </tr>\n",
       "    <tr>\n",
       "      <th>4</th>\n",
       "      <td>5</td>\n",
       "      <td>18</td>\n",
       "      <td>11</td>\n",
       "      <td>8</td>\n",
       "      <td>11</td>\n",
       "      <td>0</td>\n",
       "      <td>15</td>\n",
       "      <td>0</td>\n",
       "      <td>5</td>\n",
       "      <td>13</td>\n",
       "      <td>4</td>\n",
       "      <td>17</td>\n",
       "      <td>19</td>\n",
       "      <td>0</td>\n",
       "    </tr>\n",
       "  </tbody>\n",
       "</table>\n",
       "</div>"
      ],
      "text/plain": [
       "   ADJ  ADP  ADV  CCONJ  DET  INTJ  NOUN  NUM  PART  PRON  PROPN  PUNCT  VERB  \\\n",
       "0    3    8    3      6    5     0    12    0     3     3      2      9    13   \n",
       "1    7    8    7      2    6     0     8    0     1     4      2      7    11   \n",
       "2    2    6    1      1    3     2     2    0     1     2      4      4     5   \n",
       "3    1    0    0      0    0     2     0    0     0     1      0      3     2   \n",
       "4    5   18   11      8   11     0    15    0     5    13      4     17    19   \n",
       "\n",
       "   X  \n",
       "0  0  \n",
       "1  0  \n",
       "2  0  \n",
       "3  0  \n",
       "4  0  "
      ]
     },
     "execution_count": 119,
     "metadata": {},
     "output_type": "execute_result"
    }
   ],
   "source": [
    "sentDict = {}\n",
    "\n",
    "for i, sentence in enumerate(sentences['sentence']):\n",
    "    posDict = {w.pos_: 0 for w in alice_doc} \n",
    "    for word in sentence:\n",
    "        posDict[word.pos_] = posDict.get(word.pos_) + 1\n",
    "    sentDict[i] = posDict\n",
    "        \n",
    "df = pd.DataFrame(sentDict).T\n",
    "print(df.shape)\n",
    "\n",
    "X = np.append(X.toarray(), df.values, 1)\n",
    "#X = np.append(X, df.values, 1)\n",
    "print(X.shape)\n",
    "df.head()"
   ]
  },
  {
   "cell_type": "code",
   "execution_count": 20,
   "metadata": {
    "collapsed": true
   },
   "outputs": [],
   "source": [
    "# Timing context manager for statement invocations.\n",
    "# Taken from Python Cookbook section 14.13\n",
    "import time\n",
    "\n",
    "from contextlib import contextmanager\n",
    "@contextmanager\n",
    "def timeblock(label):\n",
    "    start = time.perf_counter()\n",
    "    try:\n",
    "        yield\n",
    "    finally:\n",
    "        end = time.perf_counter()\n",
    "        print('{} : {:.2f} secs'.format(label, end - start))"
   ]
  },
  {
   "cell_type": "markdown",
   "metadata": {},
   "source": [
    "## Model Building"
   ]
  },
  {
   "cell_type": "code",
   "execution_count": 120,
   "metadata": {},
   "outputs": [
    {
     "data": {
      "image/png": "[encoded data removed]",
      "text/plain": [
       "<matplotlib.figure.Figure at 0x7fb68426b630>"
      ]
     },
     "metadata": {},
     "output_type": "display_data"
    }
   ],
   "source": [
    "# Let us find the best value for depth of tree\n",
    "rfc = ensemble.RandomForestClassifier()\n",
    "y = np.where(sentences.author == 'Carroll', 0, 1)\n",
    "\n",
    "max_depth_range = list(range(4, 15))\n",
    "param_grid = dict(max_depth=max_depth_range)\n",
    "\n",
    "grid = GridSearchCV(rfc, param_grid, cv=5)\n",
    "grid.fit(X, y)\n",
    "\n",
    "# check the results of the grid search\n",
    "#print(grid.grid_scores_)\n",
    "grid.grid_scores_[1]\n",
    "grid_mean_scores = [result[1] for result in grid.grid_scores_]\n",
    "# this is a list of the average accuracies for each parameter combination\n",
    "plt.figure(figsize=(800/my_dpi, 800/my_dpi), dpi=my_dpi)\n",
    "plt.ylim([0.72, .95])\n",
    "plt.xlabel('Tuning Parameter: Max Depth of Tree')\n",
    "plt.ylabel('Accuracy')\n",
    "plt.plot(max_depth_range, grid_mean_scores)\n",
    "plt.title('Figure 2 : Grid Search for the Optimal Tree Depth')\n",
    "__ = plt.plot(grid.best_params_['max_depth'], grid.best_score_, 'ro', markersize=12, markeredgewidth=1.5,\n",
    "         markerfacecolor='None', markeredgecolor='r')"
   ]
  },
  {
   "cell_type": "markdown",
   "metadata": {},
   "source": []
  },
  {
   "cell_type": "code",
   "execution_count": 121,
   "metadata": {},
   "outputs": [
    {
     "data": {
      "image/png": "[encoded data removed]",
      "text/plain": [
       "<matplotlib.figure.Figure at 0x7fb688c4cb70>"
      ]
     },
     "metadata": {},
     "output_type": "display_data"
    }
   ],
   "source": [
    "# Let us find the best value for the number of trees in the forest\n",
    "rfc = ensemble.RandomForestClassifier(max_depth=14)\n",
    "\n",
    "max_trees_range = list(range(1, 20))\n",
    "param_grid = dict(n_estimators=max_trees_range)\n",
    "\n",
    "grid = GridSearchCV(rfc, param_grid, cv=5)\n",
    "grid.fit(X, y)\n",
    "\n",
    "\n",
    "# check the results of the grid search\n",
    "#print(grid.grid_scores_)\n",
    "grid_mean_scores = [result[1] for result in grid.grid_scores_]\n",
    "\n",
    "# this is a list of the average accuracies for each parameter combination\n",
    "plt.figure(figsize=(800/my_dpi, 800/my_dpi), dpi=my_dpi)\n",
    "plt.ylim([0.60, 0.99])\n",
    "plt.xlabel('Tuning Parameter: Number of Trees in Forest')\n",
    "plt.ylabel('Accuracy')\n",
    "plt.plot(max_trees_range, grid_mean_scores)\n",
    "plt.title('Figure 3 : Grid Search for the Optimal Number of trees')\n",
    "__ = plt.plot(grid.best_params_['n_estimators'], grid.best_score_, 'ro', markersize=12, markeredgewidth=1.5,\n",
    "         markerfacecolor='None', markeredgecolor='r')"
   ]
  },
  {
   "cell_type": "code",
   "execution_count": 125,
   "metadata": {},
   "outputs": [
    {
     "name": "stdout",
     "output_type": "stream",
     "text": [
      "(4540,)\n",
      "\n",
      " {0: 1179, 1: 3361} \n",
      "\n",
      "Time Spent computing cross validation scores : 2.86 secs\n",
      "\n",
      "\n",
      "[ 0.90821256  0.90891473  0.9178744   0.94070352  0.9270217   0.88345865\n",
      "  0.92371134]\n",
      "Accuracy: 0.92 (+/- 0.03)\n",
      "\n",
      "\n",
      "Time Spent training Random Forest : 0.24 secs\n",
      "[0 1]\n",
      "             precision    recall  f1-score   support\n",
      "\n",
      "    Carroll       0.88      0.60      0.72       483\n",
      "     Austen       0.87      0.97      0.92      1333\n",
      "\n",
      "avg / total       0.87      0.87      0.86      1816\n",
      "\n",
      "\n",
      "\n"
     ]
    },
    {
     "data": {
      "image/png": "[encoded data removed]",
      "text/plain": [
       "<matplotlib.figure.Figure at 0x7fb688bbe7b8>"
      ]
     },
     "metadata": {},
     "output_type": "display_data"
    }
   ],
   "source": [
    "from sklearn import ensemble\n",
    "\n",
    "print(y.shape)\n",
    "unique, counts = np.unique(y, return_counts=True)\n",
    "print('\\n %s \\n' % (dict(zip(unique, counts))))\n",
    "\n",
    "# Austen     3361\n",
    "# Carroll    1179\n",
    "\n",
    "rfc = ensemble.RandomForestClassifier(max_depth=13, n_estimators=8, class_weight={0:.7, 1:.3})\n",
    "\n",
    "with timeblock('Time Spent computing cross validation scores'):\n",
    "    scores = cross_val_score(rfc, X, y, cv=7, scoring='f1')\n",
    "\n",
    "print('\\n')\n",
    "print(scores)\n",
    "print(\"Accuracy: %0.2f (+/- %0.2f)\\n\\n\" % (scores.mean(), scores.std() * 2))\n",
    "\n",
    "# Done to retieve the Precision, Recall and the Confusion matrix\n",
    "X_train, X_test, y_train, y_test = train_test_split(X, y, test_size=0.4, random_state=0)\n",
    "\n",
    "with timeblock('Time Spent training Random Forest'):\n",
    "    rfc.fit(X_train, y_train)\n",
    "    \n",
    "y_ = rfc.predict(X_test)\n",
    "\n",
    "print(rfc.classes_)\n",
    "target_names = ['Carroll', 'Austen']\n",
    "print(classification_report(y_test, y_, target_names=target_names))\n",
    "print('\\n')\n",
    "cnfsn_mtrx = metrics.confusion_matrix(y_test, y_)\n",
    "\n",
    "# Display heatmap of confusion matrix\n",
    "__ = sb.heatmap(cnfsn_mtrx, annot=True, fmt=\"d\")\n",
    "__ = plt.title(\"Test Set Confusion Matrix\")"
   ]
  },
  {
   "cell_type": "markdown",
   "metadata": {},
   "source": []
  },
  {
   "cell_type": "markdown",
   "metadata": {},
   "source": [
    "### Preprocessing and exploratory data analysis II\n",
    "\n",
    "Read in Melville’ s Moby Dick and clean text and initialize a spaCy instance."
   ]
  },
  {
   "cell_type": "code",
   "execution_count": 151,
   "metadata": {
    "scrolled": false
   },
   "outputs": [],
   "source": [
    "# Great American Classic\n",
    "moby_dick_doc = gutenberg.raw('melville-moby_dick.txt')\n",
    "\n",
    "# Start reading doc past the ETYMOLOGY section and first chapter heading\n",
    "moby_dick = moby_dick_doc[21958:]\n",
    "\n",
    "# The Chapter indicator is idiosyncratic\n",
    "#persuasion = re.sub(r'Chapter \\d+', '', persuasion)\n",
    "moby_dick = re.sub(r'CHAPTER .*', '', moby_dick)\n",
    "    \n",
    "moby_dick = text_cleaner(moby_dick)\n",
    "moby_dick_doc = nlp(moby_dick)"
   ]
  },
  {
   "cell_type": "markdown",
   "metadata": {},
   "source": [
    "Parse document for sentences and create a new Data frame containing the spaCy token objects from Alice in Wonderland and Persuasion. "
   ]
  },
  {
   "cell_type": "code",
   "execution_count": 153,
   "metadata": {},
   "outputs": [
    {
     "name": "stdout",
     "output_type": "stream",
     "text": [
      "\n",
      "Melville    8572\n",
      "Austen      3361\n",
      "Carroll     1179\n",
      "Name: author, dtype: int64 \n",
      "\n"
     ]
    },
    {
     "data": {
      "text/html": [
       "<div>\n",
       "<table border=\"1\" class=\"dataframe\">\n",
       "  <thead>\n",
       "    <tr style=\"text-align: right;\">\n",
       "      <th></th>\n",
       "      <th>sentence</th>\n",
       "      <th>author</th>\n",
       "    </tr>\n",
       "  </thead>\n",
       "  <tbody>\n",
       "    <tr>\n",
       "      <th>0</th>\n",
       "      <td>(Alice, was, beginning, to, get, very, tired, ...</td>\n",
       "      <td>Carroll</td>\n",
       "    </tr>\n",
       "    <tr>\n",
       "      <th>1</th>\n",
       "      <td>(So, she, was, considering, in, her, own, mind...</td>\n",
       "      <td>Carroll</td>\n",
       "    </tr>\n",
       "    <tr>\n",
       "      <th>2</th>\n",
       "      <td>(There, was, nothing, so, VERY, remarkable, in...</td>\n",
       "      <td>Carroll</td>\n",
       "    </tr>\n",
       "    <tr>\n",
       "      <th>3</th>\n",
       "      <td>(Oh, dear, !, I, shall, be, late, !, ')</td>\n",
       "      <td>Carroll</td>\n",
       "    </tr>\n",
       "    <tr>\n",
       "      <th>4</th>\n",
       "      <td>((, when, she, thought, it, over, afterwards, ...</td>\n",
       "      <td>Carroll</td>\n",
       "    </tr>\n",
       "  </tbody>\n",
       "</table>\n",
       "</div>"
      ],
      "text/plain": [
       "                                            sentence   author\n",
       "0  (Alice, was, beginning, to, get, very, tired, ...  Carroll\n",
       "1  (So, she, was, considering, in, her, own, mind...  Carroll\n",
       "2  (There, was, nothing, so, VERY, remarkable, in...  Carroll\n",
       "3            (Oh, dear, !, I, shall, be, late, !, ')  Carroll\n",
       "4  ((, when, she, thought, it, over, afterwards, ...  Carroll"
      ]
     },
     "execution_count": 153,
     "metadata": {},
     "output_type": "execute_result"
    }
   ],
   "source": [
    "moby_dick_sents = [[sent, \"Melville\"] for sent in moby_dick_doc.sents]\n",
    "\n",
    "# Combine the sentences from the three novels into one data frame.\n",
    "sentences = pd.DataFrame(alice_sents + persuasion_sents + moby_dick_sents)\n",
    "sentences.columns = ['sentence', 'author']\n",
    "print('\\n%s \\n' % sentences.author.value_counts())\n",
    "sentences.head()"
   ]
  },
  {
   "cell_type": "markdown",
   "metadata": {},
   "source": [
    "Next, we compute the distribution of parts of speech in each text. This might provide more of a rationale for use in the classification step. "
   ]
  },
  {
   "cell_type": "code",
   "execution_count": 156,
   "metadata": {},
   "outputs": [
    {
     "data": {
      "text/plain": [
       "<matplotlib.figure.Figure at 0x7fb6582a4048>"
      ]
     },
     "metadata": {},
     "output_type": "display_data"
    },
    {
     "data": {
      "image/png": "[encoded data removed]",
      "text/plain": [
       "<matplotlib.figure.Figure at 0x7fb6582bcf98>"
      ]
     },
     "metadata": {},
     "output_type": "display_data"
    }
   ],
   "source": [
    "moby_dickwords = normalize_text(moby_dick_doc)\n",
    "\n",
    "# need a new part of speech dictionary\n",
    "tagDict = {w.pos: w.pos_ for w in moby_dick_doc} \n",
    "mobydickPOS = pd.Series(moby_dick_doc.count_by(spacy.attrs.POS))/len(moby_dick_doc)\n",
    "\n",
    "df = pd.DataFrame([alicePOS, persuasionPOS, mobydickPOS], index=['Alice', 'Persuasion', 'Moby Dick'])\n",
    "df.columns = [tagDict[column] for column in df.columns]\n",
    "__ = plt.figure(figsize=(800/my_dpi, 800/my_dpi), dpi=my_dpi)\n",
    "__ = df.T.plot(kind='bar')"
   ]
  },
  {
   "cell_type": "code",
   "execution_count": 179,
   "metadata": {},
   "outputs": [
    {
     "name": "stdout",
     "output_type": "stream",
     "text": [
      "Processing row 0\n",
      "Processing row 500\n",
      "Processing row 1000\n",
      "Processing row 1500\n",
      "Processing row 2000\n",
      "Processing row 2500\n",
      "Processing row 3000\n",
      "Processing row 3500\n",
      "Processing row 4000\n",
      "Processing row 4500\n",
      "Processing row 5000\n",
      "Processing row 5500\n",
      "Processing row 6000\n",
      "Processing row 6500\n",
      "Processing row 7000\n",
      "Processing row 7500\n",
      "Processing row 8000\n",
      "Processing row 8500\n",
      "Processing row 9000\n",
      "Processing row 9500\n",
      "Processing row 10000\n",
      "Processing row 10500\n",
      "Processing row 11000\n",
      "Processing row 11500\n",
      "Processing row 12000\n",
      "Processing row 12500\n",
      "Processing row 13000\n"
     ]
    },
    {
     "name": "stderr",
     "output_type": "stream",
     "text": [
      "/usr/local/lib/python3.5/dist-packages/ipykernel_launcher.py:11: FutureWarning: convert_objects is deprecated.  Use the data-type specific converters pd.to_datetime, pd.to_timedelta and pd.to_numeric.\n",
      "  # This is added back by InteractiveShellApp.init_path()\n"
     ]
    }
   ],
   "source": [
    "# we will use the 5000 most common words\n",
    "alicewords = normalize_text(alice_doc, most_common=5000)\n",
    "persuasionwords = normalize_text(persuasion_doc, most_common=5000)\n",
    "mobydickwords = normalize_text(moby_dick_doc, most_common=5000)\n",
    "\n",
    "common_words = set(alicewords + persuasionwords + mobydickwords)\n",
    "\n",
    "# the following function will return a data frame and a numpy matrix\n",
    "bow_df = bow_features(sentences, common_words)\n",
    "df = bow_df.drop(['text_sentence','text_source'], axis=1)\n",
    "df = df.convert_objects(convert_numeric=True)\n",
    "\n",
    "X = np.array(df)\n",
    "\n",
    "# Create td-idf sparse matrix from bag of words\n",
    "__, X =  tfidf_transformer(X)"
   ]
  },
  {
   "cell_type": "markdown",
   "metadata": {},
   "source": [
    "We build another matrix composed of all the parts of speech of all the sentences form the three novels. The resulting array is appended to the TF-IDF array."
   ]
  },
  {
   "cell_type": "code",
   "execution_count": 180,
   "metadata": {},
   "outputs": [
    {
     "name": "stdout",
     "output_type": "stream",
     "text": [
      "\n",
      "Number of Sentences is : 13112\n",
      "\n",
      "Number of Words is : 7495\n",
      "(13112, 15)\n",
      "(13112, 7510)\n"
     ]
    },
    {
     "data": {
      "text/html": [
       "<div>\n",
       "<table border=\"1\" class=\"dataframe\">\n",
       "  <thead>\n",
       "    <tr style=\"text-align: right;\">\n",
       "      <th></th>\n",
       "      <th>ADJ</th>\n",
       "      <th>ADP</th>\n",
       "      <th>ADV</th>\n",
       "      <th>CCONJ</th>\n",
       "      <th>DET</th>\n",
       "      <th>INTJ</th>\n",
       "      <th>NOUN</th>\n",
       "      <th>NUM</th>\n",
       "      <th>PART</th>\n",
       "      <th>PRON</th>\n",
       "      <th>PROPN</th>\n",
       "      <th>PUNCT</th>\n",
       "      <th>SYM</th>\n",
       "      <th>VERB</th>\n",
       "      <th>X</th>\n",
       "    </tr>\n",
       "  </thead>\n",
       "  <tbody>\n",
       "    <tr>\n",
       "      <th>0</th>\n",
       "      <td>3</td>\n",
       "      <td>8</td>\n",
       "      <td>3</td>\n",
       "      <td>6</td>\n",
       "      <td>5</td>\n",
       "      <td>0</td>\n",
       "      <td>12</td>\n",
       "      <td>0</td>\n",
       "      <td>3</td>\n",
       "      <td>3</td>\n",
       "      <td>2</td>\n",
       "      <td>9</td>\n",
       "      <td>0</td>\n",
       "      <td>13</td>\n",
       "      <td>0</td>\n",
       "    </tr>\n",
       "    <tr>\n",
       "      <th>1</th>\n",
       "      <td>7</td>\n",
       "      <td>8</td>\n",
       "      <td>7</td>\n",
       "      <td>2</td>\n",
       "      <td>6</td>\n",
       "      <td>0</td>\n",
       "      <td>8</td>\n",
       "      <td>0</td>\n",
       "      <td>1</td>\n",
       "      <td>4</td>\n",
       "      <td>2</td>\n",
       "      <td>7</td>\n",
       "      <td>0</td>\n",
       "      <td>11</td>\n",
       "      <td>0</td>\n",
       "    </tr>\n",
       "    <tr>\n",
       "      <th>2</th>\n",
       "      <td>2</td>\n",
       "      <td>6</td>\n",
       "      <td>1</td>\n",
       "      <td>1</td>\n",
       "      <td>3</td>\n",
       "      <td>2</td>\n",
       "      <td>2</td>\n",
       "      <td>0</td>\n",
       "      <td>1</td>\n",
       "      <td>2</td>\n",
       "      <td>4</td>\n",
       "      <td>4</td>\n",
       "      <td>0</td>\n",
       "      <td>5</td>\n",
       "      <td>0</td>\n",
       "    </tr>\n",
       "    <tr>\n",
       "      <th>3</th>\n",
       "      <td>1</td>\n",
       "      <td>0</td>\n",
       "      <td>0</td>\n",
       "      <td>0</td>\n",
       "      <td>0</td>\n",
       "      <td>2</td>\n",
       "      <td>0</td>\n",
       "      <td>0</td>\n",
       "      <td>0</td>\n",
       "      <td>1</td>\n",
       "      <td>0</td>\n",
       "      <td>3</td>\n",
       "      <td>0</td>\n",
       "      <td>2</td>\n",
       "      <td>0</td>\n",
       "    </tr>\n",
       "    <tr>\n",
       "      <th>4</th>\n",
       "      <td>5</td>\n",
       "      <td>18</td>\n",
       "      <td>11</td>\n",
       "      <td>8</td>\n",
       "      <td>11</td>\n",
       "      <td>0</td>\n",
       "      <td>15</td>\n",
       "      <td>0</td>\n",
       "      <td>5</td>\n",
       "      <td>13</td>\n",
       "      <td>4</td>\n",
       "      <td>17</td>\n",
       "      <td>0</td>\n",
       "      <td>19</td>\n",
       "      <td>0</td>\n",
       "    </tr>\n",
       "  </tbody>\n",
       "</table>\n",
       "</div>"
      ],
      "text/plain": [
       "   ADJ  ADP  ADV  CCONJ  DET  INTJ  NOUN  NUM  PART  PRON  PROPN  PUNCT  SYM  \\\n",
       "0    3    8    3      6    5     0    12    0     3     3      2      9    0   \n",
       "1    7    8    7      2    6     0     8    0     1     4      2      7    0   \n",
       "2    2    6    1      1    3     2     2    0     1     2      4      4    0   \n",
       "3    1    0    0      0    0     2     0    0     0     1      0      3    0   \n",
       "4    5   18   11      8   11     0    15    0     5    13      4     17    0   \n",
       "\n",
       "   VERB  X  \n",
       "0    13  0  \n",
       "1    11  0  \n",
       "2     5  0  \n",
       "3     2  0  \n",
       "4    19  0  "
      ]
     },
     "execution_count": 180,
     "metadata": {},
     "output_type": "execute_result"
    }
   ],
   "source": [
    "print('\\nNumber of Sentences is : %d' % X.shape[0])\n",
    "print('\\nNumber of Words is : %d' % X.shape[1])\n",
    "\n",
    "# Now calculate the number of the part of speech for each sentence\n",
    "sentDict = {}\n",
    "\n",
    "for i, sentence in enumerate(sentences['sentence']):\n",
    "    posDict = {w.pos_: 0 for w in moby_dick_doc} \n",
    "    for word in sentence:\n",
    "        posDict[word.pos_] = posDict.get(word.pos_) + 1\n",
    "    sentDict[i] = posDict\n",
    "        \n",
    "df = pd.DataFrame(sentDict).T\n",
    "print(df.shape)\n",
    "\n",
    "X = np.append(X.toarray(), df.values, 1)\n",
    "#X = np.append(X, df.values, 1)\n",
    "print(X.shape)\n",
    "df.head()"
   ]
  },
  {
   "cell_type": "code",
   "execution_count": 181,
   "metadata": {},
   "outputs": [
    {
     "data": {
      "text/plain": [
       "3    8572\n",
       "2    3361\n",
       "1    1179\n",
       "Name: label, dtype: int64"
      ]
     },
     "execution_count": 181,
     "metadata": {},
     "output_type": "execute_result"
    }
   ],
   "source": [
    "# Author names to integers\n",
    "\n",
    "author_mapping = {'Carroll':1, 'Austen':2, 'Melville':3}\n",
    "\n",
    "sentences['label'] = sentences.author.map(author_mapping)\n",
    "sentences.label.value_counts()\n"
   ]
  },
  {
   "cell_type": "markdown",
   "metadata": {},
   "source": [
    "## Model Building II"
   ]
  },
  {
   "cell_type": "code",
   "execution_count": 182,
   "metadata": {},
   "outputs": [
    {
     "data": {
      "image/png": "[encoded data removed]",
      "text/plain": [
       "<matplotlib.figure.Figure at 0x7fb6581df518>"
      ]
     },
     "metadata": {},
     "output_type": "display_data"
    }
   ],
   "source": [
    "# Let us find the best value for depth of tree\n",
    "rfc = ensemble.RandomForestClassifier()\n",
    "y = sentences.label\n",
    "\n",
    "max_depth_range = list(range(4, 15))\n",
    "param_grid = dict(max_depth=max_depth_range)\n",
    "\n",
    "grid = GridSearchCV(rfc, param_grid, cv=5)\n",
    "grid.fit(X, y)\n",
    "\n",
    "# check the results of the grid search\n",
    "#print(grid.grid_scores_)\n",
    "grid.grid_scores_[1]\n",
    "grid_mean_scores = [result[1] for result in grid.grid_scores_]\n",
    "# this is a list of the average accuracies for each parameter combination\n",
    "plt.figure(figsize=(800/my_dpi, 800/my_dpi), dpi=my_dpi)\n",
    "plt.ylim([0.60, .80])\n",
    "plt.xlabel('Tuning Parameter: Max Depth of Tree')\n",
    "plt.ylabel('Accuracy')\n",
    "plt.plot(max_depth_range, grid_mean_scores)\n",
    "plt.title('Figure 4 : Grid Search for the Optimal Tree Depth')\n",
    "__ = plt.plot(grid.best_params_['max_depth'], grid.best_score_, 'ro', markersize=12, markeredgewidth=1.5,\n",
    "         markerfacecolor='None', markeredgecolor='r')"
   ]
  },
  {
   "cell_type": "code",
   "execution_count": 183,
   "metadata": {},
   "outputs": [
    {
     "data": {
      "image/png": "[encoded data removed]",
      "text/plain": [
       "<matplotlib.figure.Figure at 0x7fb684687080>"
      ]
     },
     "metadata": {},
     "output_type": "display_data"
    }
   ],
   "source": [
    "# Let us find the best value for the number of trees in the forest\n",
    "rfc = ensemble.RandomForestClassifier(max_depth=14)\n",
    "\n",
    "max_trees_range = list(range(1, 20))\n",
    "param_grid = dict(n_estimators=max_trees_range)\n",
    "\n",
    "grid = GridSearchCV(rfc, param_grid, cv=5)\n",
    "grid.fit(X, y)\n",
    "\n",
    "\n",
    "# check the results of the grid search\n",
    "#print(grid.grid_scores_)\n",
    "grid_mean_scores = [result[1] for result in grid.grid_scores_]\n",
    "\n",
    "# this is a list of the average accuracies for each parameter combination\n",
    "plt.figure(figsize=(800/my_dpi, 800/my_dpi), dpi=my_dpi)\n",
    "plt.ylim([0.60, 0.80])\n",
    "plt.xlabel('Tuning Parameter: Number of Trees in Forest')\n",
    "plt.ylabel('Accuracy')\n",
    "plt.plot(max_trees_range, grid_mean_scores)\n",
    "plt.title('Figure 5 : Grid Search for the Optimal Number of trees')\n",
    "__ = plt.plot(grid.best_params_['n_estimators'], grid.best_score_, 'ro', markersize=12, markeredgewidth=1.5,\n",
    "         markerfacecolor='None', markeredgecolor='r')"
   ]
  },
  {
   "cell_type": "code",
   "execution_count": 184,
   "metadata": {},
   "outputs": [
    {
     "name": "stdout",
     "output_type": "stream",
     "text": [
      "\n",
      " {1: 1179, 2: 3361, 3: 8572} \n",
      "\n",
      "Time Spent computing cross validation scores : 5.36 secs\n",
      "\n",
      "\n",
      "[ 0.6992      0.72091782  0.76627535  0.76775227  0.72863248  0.75534188\n",
      "  0.71207265]\n",
      "Accuracy: 0.74 (+/- 0.05)\n",
      "\n",
      "\n",
      "Time Spent training Random Forest : 0.59 secs\n",
      "[1 2 3]\n",
      "             precision    recall  f1-score   support\n",
      "\n",
      "    Carroll       0.68      0.08      0.14       462\n",
      "     Austen       0.87      0.23      0.37      1307\n",
      "   Melville       0.71      0.99      0.83      3476\n",
      "\n",
      "avg / total       0.75      0.72      0.65      5245\n",
      "\n",
      "\n",
      "\n"
     ]
    },
    {
     "data": {
      "image/png": "[encoded data removed]",
      "text/plain": [
       "<matplotlib.figure.Figure at 0x7fb6889dcac8>"
      ]
     },
     "metadata": {},
     "output_type": "display_data"
    }
   ],
   "source": [
    "unique, counts = np.unique(y, return_counts=True)\n",
    "print('\\n %s \\n' % (dict(zip(unique, counts))))\n",
    "\n",
    "rfc = ensemble.RandomForestClassifier(max_depth=14, n_estimators=2, class_weight={1:.6, 2:.3, 3:1})\n",
    "\n",
    "with timeblock('Time Spent computing cross validation scores'):\n",
    "    scores = cross_val_score(rfc, X, y, cv=7, scoring='f1_micro')\n",
    "\n",
    "print('\\n')\n",
    "print(scores)\n",
    "print(\"Accuracy: %0.2f (+/- %0.2f)\\n\\n\" % (scores.mean(), scores.std() * 2))\n",
    "\n",
    "# Done to retieve the Precision, Recall and the Confusion matrix\n",
    "X_train, X_test, y_train, y_test = train_test_split(X, y, test_size=0.4, random_state=0)\n",
    "\n",
    "with timeblock('Time Spent training Random Forest'):\n",
    "    rfc.fit(X_train, y_train)\n",
    "    \n",
    "y_ = rfc.predict(X_test)\n",
    "\n",
    "print(rfc.classes_)\n",
    "target_names = ['Carroll', 'Austen', 'Melville']\n",
    "print(classification_report(y_test, y_, target_names=target_names))\n",
    "print('\\n')\n",
    "cnfsn_mtrx = metrics.confusion_matrix(y_test, y_)\n",
    "\n",
    "# Display heatmap of confusion matrix\n",
    "__ = sb.heatmap(cnfsn_mtrx, annot=True, fmt=\"d\")\n",
    "__ = plt.title(\"Test Set Confusion Matrix\")"
   ]
  },
  {
   "cell_type": "markdown",
   "metadata": {},
   "source": [
    "## Discussion"
   ]
  },
  {
   "cell_type": "markdown",
   "metadata": {
    "collapsed": true
   },
   "source": [
    "For the first classification step, determining if a sentence was written by Jane Austen or Lewis Carroll resulted in a mean cross validation score of 0.92.  This was obtained by converting a bag of words to a term frequency-inverse document frequency (TF-IDF) encoding. The number of predictions made that are actually correct for both classes was 0.88 and 0.87 while the number of instances of each class that was correctly predicted is 0.60 and 0.92.  The number of sentences is quite unbalanced, with Alice I wonderland comprising only 26 % of the sentences. I was unable to obtain an accuracy over 97 using the TF-IDF and including the number of the part of speech of each sentence in the model.\n",
    "\n",
    "The second classification step used an additional work by Herman Melville.   TF-IDF was superior than bag of words.  The number of sentence for each author was unbalances with those written by Melville comprising 65 % of the total.  The mean cross validation accuracy was 0.74.  The number of predictions made that are actually correct for both classes was 0.68, 0.87 and 0.71 while the number of instances of each class that was correctly predicted was 0.08, 0.23 and 0.99. The model did a rather poor job of predicted those sentences written by Lewis Carrol."
   ]
  }
 ],
 "metadata": {
  "kernelspec": {
   "display_name": "Python 3",
   "language": "python",
   "name": "python3"
  },
  "language_info": {
   "codemirror_mode": {
    "name": "ipython",
    "version": 3
   },
   "file_extension": ".py",
   "mimetype": "text/x-python",
   "name": "python",
   "nbconvert_exporter": "python",
   "pygments_lexer": "ipython3",
   "version": "3.5.2"
  }
 },
 "nbformat": 4,
 "nbformat_minor": 2
}
