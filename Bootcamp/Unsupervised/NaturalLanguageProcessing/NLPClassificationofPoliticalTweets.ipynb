{
 "cells": [
  {
   "cell_type": "markdown",
   "metadata": {},
   "source": [
    "Thinkful Bootcamp Course\n",
    "\n",
    "Author: Ian Heaton\n",
    "\n",
    "Email: iheaton@gmail.com\n",
    "\n",
    "Mentor: Nemanja Radojkovic\n",
    "\n",
    "Date: 2017/06/25\n"
   ]
  },
  {
   "cell_type": "code",
   "execution_count": 1,
   "metadata": {
    "collapsed": true
   },
   "outputs": [],
   "source": [
    "import warnings\n",
    "warnings.filterwarnings(\"ignore\", category=DeprecationWarning)\n",
    "\n",
    "import pandas as pd\n",
    "import numpy as np\n",
    "import matplotlib.pyplot as plt\n",
    "import seaborn as sb\n",
    "import scipy\n",
    "import sklearn\n",
    "import spacy\n",
    "import re\n",
    "import gensim\n",
    "\n",
    "from gensim.models import word2vec\n",
    "from sklearn.decomposition import TruncatedSVD\n",
    "from sklearn.feature_extraction.text import TfidfTransformer\n",
    "from sklearn.feature_extraction.text import TfidfVectorizer\n",
    "from sklearn.model_selection import cross_val_score\n",
    "from sklearn.preprocessing import StandardScaler\n",
    "from sklearn.metrics import classification_report\n",
    "from sklearn.model_selection import train_test_split\n",
    "from sklearn.grid_search import GridSearchCV\n",
    "from sklearn import ensemble\n",
    "from sklearn import metrics\n",
    "from collections import Counter\n",
    "\n",
    "%matplotlib inline\n",
    "\n",
    "sb.set_style('darkgrid')\n",
    "my_dpi = 96"
   ]
  },
  {
   "cell_type": "markdown",
   "metadata": {},
   "source": [
    "# Classification of Hillary Clinton and Donald Drumpf’s 2016 Presidential Election Tweets\n",
    "\n",
    "\n",
    "## Question:\n",
    "Which Natural Language Processing method TF-IDF or Latent Semantic Analysis (LSA) does a better job of classifying election tweets?\n",
    "\n",
    "### Data:\n",
    "\n",
    "Tweeter taken from the Kaggle website, specifically the Hillary Clinton and Donald Trump Tweets [page](https://www.kaggle.com/benhamner/clinton-trump-tweets).  The dataset contains roughly 3000  tweets from Hillary Clinton and Donald Trump the two major-party nominees during the 2016 USA Presidential election.\n",
    "\n",
    "\n",
    "### Context:\n",
    "\n",
    "### Content:\n",
    "Dataset contains 27 features most of which are not available for every observation. \n",
    "\n",
    "+ id : Twitter universally unique identifier (Snowflake)\n",
    "\n",
    "+ handle : Twitter username of retwitter or originator\n",
    "\n",
    "+ text : Raw text of tweet\n",
    "\n",
    "+ is_retweet : Boolean indicator specifying if tweet is a retweet from another individual.\n",
    "\n",
    "+ original_author : If tweet is a retweet the name of the originator, if known\n",
    "+ time: An ISO 8601 formatted date and time.\n",
    "\n",
    "+ in_reply_to_screen_name:  If the represented Tweet is a reply, this field will contain the screen name of the original Tweet's author.\n",
    "\n",
    "+ in_reply_to_status_id: If the represented Tweet is a reply, this field will contain the integer representation of the original Tweet's ID.\n",
    "\n",
    "+ in_reply_to_user_id: If the represented Tweet is a reply, this field will contain the integer representation of the original Tweet's author ID.\n",
    "\n",
    "+ is_quote_status:?\n",
    "\n",
    "+ lang: Two letter abbreviation for language of tweet.\n",
    "\n",
    "+ retweet_count: Number of times this Tweet has been retweeted.\n",
    "\n",
    "+ favorite_count: Perspectival Indicates whether this Tweet has been liked by the authenticating user.\n",
    "\n",
    "+ longtude: The longtude of the position from which the tweet originated - not always present\n",
    "\n",
    "+ latitude: The latitude of the position from which the tweet originated - not always present.\n",
    "\n",
    "+ place_id: ID representing this place. Note that this is represented as a string.\n",
    "\n",
    "+ place_full_name: Full human-readable representation of the place’s name.\n",
    "\n",
    "+ place_name: Short human-readable representation of the place’s name (e.g., Paris).\n",
    "\n",
    "+ place_type: The type of location represented by the place (e.g., City).\n",
    "\n",
    "+ place_country_code: Shortened country code representing the country containing the place.\n",
    "\n",
    "+ place_country: String name of the country containing the place.\n",
    "\n",
    "+ place_contained_within:\n",
    "\n",
    "+ place_attributes: Place Attributes are metadata about places. An attribute is a key-value pair of arbitrary strings.\n",
    "\n",
    "+ place_bounding_box: A bounding box of geo coordinates about a place which could be issued from a location or be about a location. \n",
    "\n",
    "+ truncated:Boolean indicator specifying if tweet was trucated to 140 characters.\n",
    "\n",
    "+ entities:  Provide metadata and additional contextual information about content \n",
    "\n",
    "+ extended_entities:Nested JSON that upports various media types such as photoes, animated gifs and video.\n",
    "\n",
    "\n",
    "\n"
   ]
  },
  {
   "cell_type": "code",
   "execution_count": 4,
   "metadata": {},
   "outputs": [
    {
     "name": "stdout",
     "output_type": "stream",
     "text": [
      "\n",
      "Observations : 3000\n",
      "\n"
     ]
    }
   ],
   "source": [
    "# Read CSV containing tweet data\n",
    "path = '/media/ianh/space/ThinkfulData/PoliticalSocialMediaPosts/ClintonTrump2016ElectionTweets.csv'\n",
    "tweet_data = pd.read_csv(path)\n",
    "print(\"\\nNumber of Observations : %d\\n\" % (tweet_data.shape[0]))\n",
    "print(\"\\nNumber of Features : %d\\n\" % (tweet_data.shape[1]))"
   ]
  },
  {
   "cell_type": "markdown",
   "metadata": {},
   "source": [
    "## Discussion"
   ]
  },
  {
   "cell_type": "markdown",
   "metadata": {},
   "source": [
    "## Conclusions"
   ]
  },
  {
   "cell_type": "markdown",
   "metadata": {},
   "source": [
    "## References\n",
    "\n",
    "1.\n",
    "2."
   ]
  },
  {
   "cell_type": "code",
   "execution_count": null,
   "metadata": {
    "collapsed": true
   },
   "outputs": [],
   "source": []
  }
 ],
 "metadata": {
  "kernelspec": {
   "display_name": "Python 3",
   "language": "python",
   "name": "python3"
  },
  "language_info": {
   "codemirror_mode": {
    "name": "ipython",
    "version": 3
   },
   "file_extension": ".py",
   "mimetype": "text/x-python",
   "name": "python",
   "nbconvert_exporter": "python",
   "pygments_lexer": "ipython3",
   "version": "3.5.2"
  }
 },
 "nbformat": 4,
 "nbformat_minor": 2
}
