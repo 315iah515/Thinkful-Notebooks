{
 "cells": [
  {
   "cell_type": "markdown",
   "metadata": {},
   "source": [
    "Thinkful Bootcamp Course\n",
    "\n",
    "Author: Ian Heaton\n",
    "\n",
    "Email: iheaton@gmail.com\n",
    "\n",
    "Mentor: Nemanja Radojkovic\n",
    "\n",
    "Date: 2017/04/27\n"
   ]
  },
  {
   "cell_type": "code",
   "execution_count": 1,
   "metadata": {
    "collapsed": true
   },
   "outputs": [],
   "source": [
    "from IPython.display import display\n",
    "import pandas as pd\n",
    "import numpy as np\n",
    "import matplotlib.pyplot as plt\n",
    "import seaborn as sb\n",
    "from sklearn.linear_model import LogisticRegression\n",
    "\n",
    "%matplotlib inline\n",
    "\n",
    "sb.set_style('darkgrid')\n",
    "my_dpi = 76\n",
    "\n",
    "import warnings\n",
    "warnings.filterwarnings(\"ignore\", category=DeprecationWarning)"
   ]
  },
  {
   "cell_type": "markdown",
   "metadata": {},
   "source": [
    "# Classification of Airline Delays with SVM\n",
    "\n",
    "\n",
    "## Question:\n",
    "\n",
    "\n",
    "### Data:\n",
    "\n",
    "Data comes from the Kaggle web site, ‘Airlines Delay’  [1].   \n",
    "\n",
    "\n",
    "### Context:\n",
    "\n",
    "The U.S. Department of Transportation's (DOT) Bureau of Transportation Statistics (BTS) tracks the on-time performance of domestic flights operated by large air carriers. Summary information on the number of on-time, delayed, canceled and diverted flights appears in DOT's monthly Air Travel Consumer Report, published about 30 days after the month's end, as well as in summary tables posted on this website. BTS began collecting details on the causes of flight delays in June 2003. \n",
    "\n",
    "### Content:\n",
    "      \n",
    "+ Year: 1987-2008\n",
    "+ Month: \t            1-12\n",
    "+ DayofMonth: \t        1-31\n",
    "+ DayOfWeek: \t        1 (Monday) - 7 (Sunday)\n",
    "+ DepTime: \t        actual departure time (local, hhmm)\n",
    "+ CRSDepTime: \t        scheduled departure time (local, hhmm)\n",
    "+ ArrTime: \t        actual arrival time (local, hhmm)\n",
    "+ CRSArrTime: \t        scheduled arrival time (local, hhmm)\n",
    "+ UniqueCarrier: \t    unique carrier code\n",
    "+ FlightNum: \t        flight number\n",
    "+ TailNum: \t        plane tail number\n",
    "+ ActualElapsedTime: \tin minutes\n",
    "+ CRSElapsedTime: \tin minutes\n",
    "+ AirTime: \tin minutes\n",
    "+ ArrDelay: \tarrival delay, in minutes\n",
    "+ DepDelay: \tdeparture delay, in minutes\n",
    "+ Origin: \torigin IATA airport code\n",
    "+ Dest: \tdestination IATA airport code\n",
    "+ Distance: \tin miles\n",
    "+ TaxiIn: \ttaxi in time, in minutes\n",
    "+ TaxiOut: \ttaxi out time in minutes\n",
    "+ Cancelled: \twas the flight cancelled?\n",
    "+ CancellationCode: \treason for cancellation (A = carrier, B = weather, C = NAS, D = security)\n",
    "+ Diverted: \t1 = yes, 0 = no\n",
    "+ CarrierDelay: \tin minutes\n",
    "+ WeatherDelay: \tin minutes\n",
    "+ NASDelay: \tin minutes\n",
    "+ SecurityDelay: \tin minutes\n",
    "+ LateAircraftDelay: \tin minutes\n"
   ]
  },
  {
   "cell_type": "code",
   "execution_count": 2,
   "metadata": {},
   "outputs": [
    {
     "name": "stdout",
     "output_type": "stream",
     "text": [
      "\n",
      "Observations : 1936758\n",
      "\n"
     ]
    }
   ],
   "source": [
    "# Exclude some columns that will not add information to the analysis\n",
    "ex_columns = ['FlightNum', 'TailNum', 'UniqueCarrier']\n",
    "# Read CSV containing text data\n",
    "data_file = '/media/ianh/space/ThinkfulData/AirlinesDelay/DelayedFlights.csv'\n",
    "flights = pd.read_csv(data_file)\n",
    "print(\"\\nObservations : %d\\n\" % (flights.shape[0]))"
   ]
  },
  {
   "cell_type": "markdown",
   "metadata": {},
   "source": [
    "## Preprocessing and exploratory data analysis"
   ]
  },
  {
   "cell_type": "code",
   "execution_count": 16,
   "metadata": {},
   "outputs": [
    {
     "name": "stdout",
     "output_type": "stream",
     "text": [
      "Unnamed: 0                0\n",
      "Year                      0\n",
      "Month                     0\n",
      "DayofMonth                0\n",
      "DayOfWeek                 0\n",
      "DepTime                   0\n",
      "CRSDepTime                0\n",
      "ArrTime                7110\n",
      "CRSArrTime                0\n",
      "UniqueCarrier             0\n",
      "FlightNum                 0\n",
      "TailNum                   5\n",
      "ActualElapsedTime      8387\n",
      "CRSElapsedTime          198\n",
      "AirTime                8387\n",
      "ArrDelay               8387\n",
      "DepDelay                  0\n",
      "Origin                    0\n",
      "Dest                      0\n",
      "Distance                  0\n",
      "TaxiIn                 7110\n",
      "TaxiOut                 455\n",
      "Cancelled                 0\n",
      "CancellationCode          0\n",
      "Diverted                  0\n",
      "CarrierDelay         689270\n",
      "WeatherDelay         689270\n",
      "NASDelay             689270\n",
      "SecurityDelay        689270\n",
      "LateAircraftDelay    689270\n",
      "Delayed                   0\n",
      "dtype: int64\n",
      "\n",
      "\n",
      "Unnamed: 0             int64\n",
      "Year                   int64\n",
      "Month                  int64\n",
      "DayofMonth             int64\n",
      "DayOfWeek              int64\n",
      "DepTime              float64\n",
      "CRSDepTime             int64\n",
      "ArrTime              float64\n",
      "CRSArrTime             int64\n",
      "UniqueCarrier         object\n",
      "FlightNum              int64\n",
      "TailNum               object\n",
      "ActualElapsedTime    float64\n",
      "CRSElapsedTime       float64\n",
      "AirTime              float64\n",
      "ArrDelay             float64\n",
      "DepDelay             float64\n",
      "Origin                object\n",
      "Dest                  object\n",
      "Distance               int64\n",
      "TaxiIn               float64\n",
      "TaxiOut              float64\n",
      "Cancelled              int64\n",
      "CancellationCode      object\n",
      "Diverted               int64\n",
      "CarrierDelay         float64\n",
      "WeatherDelay         float64\n",
      "NASDelay             float64\n",
      "SecurityDelay        float64\n",
      "LateAircraftDelay    float64\n",
      "Delayed                int64\n",
      "dtype: object\n",
      "\n"
     ]
    }
   ],
   "source": [
    "# Check for missing data\n",
    "print(\"%s\\n\" % (flights.isnull().sum()))\n",
    "\n",
    "# Lets ensure that all columns are of the expected type object and int (or float)\n",
    "print(\"\\n%s\\n\" % (flights.dtypes))\n",
    "\n",
    "# Since we are interested if a flight was delayed and not the \n",
    "# reason why  we will create a new column called delayed and \n",
    "# an observation will only be considered delayed if the delay in minutes surpasses 10.\n",
    "flights['Delayed'] = np.where(((flights.CarrierDelay > 10) | (flights.WeatherDelay > 10) | (flights.NASDelay > 10)\\\n",
    "                               | (flights.SecurityDelay > 10) | (flights.LateAircraftDelay > 10) ), 1, 0)"
   ]
  },
  {
   "cell_type": "markdown",
   "metadata": {},
   "source": [
    "## Conclusions"
   ]
  },
  {
   "cell_type": "markdown",
   "metadata": {},
   "source": [
    "## References\n",
    "\n",
    "1. https://www.kaggle.com/giovamata/airlinedelaycauses\n",
    "2. "
   ]
  },
  {
   "cell_type": "code",
   "execution_count": null,
   "metadata": {
    "collapsed": true
   },
   "outputs": [],
   "source": []
  }
 ],
 "metadata": {
  "kernelspec": {
   "display_name": "Python 3",
   "language": "python",
   "name": "python3"
  },
  "language_info": {
   "codemirror_mode": {
    "name": "ipython",
    "version": 3
   },
   "file_extension": ".py",
   "mimetype": "text/x-python",
   "name": "python",
   "nbconvert_exporter": "python",
   "pygments_lexer": "ipython3",
   "version": "3.5.2"
  }
 },
 "nbformat": 4,
 "nbformat_minor": 2
}
