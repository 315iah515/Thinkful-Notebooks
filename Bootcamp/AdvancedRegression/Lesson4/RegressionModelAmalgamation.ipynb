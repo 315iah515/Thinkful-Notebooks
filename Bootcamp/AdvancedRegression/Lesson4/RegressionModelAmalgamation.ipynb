{
 "cells": [
  {
   "cell_type": "markdown",
   "metadata": {},
   "source": [
    "Thinkful Bootcamp Course\n",
    "\n",
    "Author: Ian Heaton\n",
    "\n",
    "Email: iheaton@gmail.com\n",
    "\n",
    "Mentor: Nemanja Radojkovic\n",
    "\n",
    "Date: 2017/04/21\n"
   ]
  },
  {
   "cell_type": "code",
   "execution_count": 1,
   "metadata": {
    "collapsed": true
   },
   "outputs": [],
   "source": [
    "from IPython.display import display\n",
    "import pandas as pd\n",
    "import numpy as np\n",
    "import matplotlib.pyplot as plt\n",
    "import seaborn as sb\n",
    "from sklearn.linear_model import LogisticRegression\n",
    "\n",
    "%matplotlib inline\n",
    "\n",
    "sb.set_style('darkgrid')\n",
    "my_dpi = 76\n",
    "\n",
    "import warnings\n",
    "warnings.filterwarnings(\"ignore\", category=DeprecationWarning)"
   ]
  },
  {
   "cell_type": "markdown",
   "metadata": {},
   "source": [
    "# Sentiment Analysis Partie deux\n",
    "\n",
    "\n",
    "## Question:\n",
    "Which Logistic Regression model will perform better at sentiment analysis and why?\n",
    "\n",
    "Three models will be used asses sentiment in sentences taken from three websites, IMDB, Amazon and yelp pertaining to product reviews. The models are;     \n",
    "   1. Logistic regression\n",
    "   2. Ridge logistic regression\n",
    "   3. Lasso logistic regression\n",
    "\n",
    "Ridge and Lasso can be carried out by specifying l1 or l2 regularization for sci  kit learn’s logistic  regression.\n",
    "\n",
    "\n",
    "\n",
    "### Data:\n",
    "\n",
    "Data can be found at the UC Irvine Machine Learning Repository [1].\n",
    "\n",
    "\n",
    "### Context:\n",
    "\n",
    "Sentiment analysis is important in analyzing Social Media that impacts a company’s bottom line.  If done correctly it can determine marketing strategy, and improve product messaging. \n",
    "\n",
    "### Content:\n",
    "\n",
    "Each observation is a sentence from one of the three websites and a score. Score is either 1 (for positive) or 0 (for negative).  Sentences were extracted from reviews of products, movies, and restaurants. The CSV file contains 3000 observations with an equal number of positive and negative sentiment data points."
   ]
  },
  {
   "cell_type": "code",
   "execution_count": 2,
   "metadata": {},
   "outputs": [
    {
     "name": "stdout",
     "output_type": "stream",
     "text": [
      "\n",
      "Observations : 3000\n",
      "\n"
     ]
    }
   ],
   "source": [
    "# Read CSV containing text data\n",
    "data_file = '/media/ianh/space/ThinkfulData/Sentiment/sentiment_all.csv'\n",
    "sntmnt = pd.read_csv(data_file)\n",
    "print(\"\\nObservations : %d\\n\" % (sntmnt.shape[0]))"
   ]
  },
  {
   "cell_type": "markdown",
   "metadata": {},
   "source": [
    "## Preprocessing and exploratory data analysis"
   ]
  },
  {
   "cell_type": "code",
   "execution_count": 3,
   "metadata": {},
   "outputs": [
    {
     "name": "stdout",
     "output_type": "stream",
     "text": [
      "text      0\n",
      "result    0\n",
      "dtype: int64\n",
      "\n",
      "\n",
      "text      object\n",
      "result     int64\n",
      "dtype: object\n",
      "\n",
      "length before pruning: 5155\n",
      "length after pruning: 5101\n"
     ]
    }
   ],
   "source": [
    "# Check for missing data\n",
    "print(\"%s\\n\" % (sntmnt.isnull().sum()))\n",
    "\n",
    "# Lets ensure that all columns are of the expected type object and int (or float)\n",
    "print(\"\\n%s\\n\" % (sntmnt.dtypes))\n",
    "\n",
    "from sklearn.feature_extraction.text import CountVectorizer\n",
    "from sklearn.cross_validation import train_test_split\n",
    "\n",
    "vect = CountVectorizer()\n",
    "X = vect.fit_transform(sntmnt.text)\n",
    "\n",
    "#Take a look at the resulting dataframe for training data\n",
    "vectz_data = pd.DataFrame(X.toarray(), columns=vect.get_feature_names())\n",
    "vectz_data.head()\n",
    "cols = vectz_data.columns\n",
    "print(\"length before pruning: %d\" % (len(cols)))\n",
    "\n",
    "def prune(cols, dataframe):\n",
    "    for name in cols:\n",
    "        if name.isdigit():\n",
    "            dataframe.drop(name, axis=1, inplace=True)\n",
    "    \n",
    "prune(cols, vectz_data)\n",
    "print(\"length after pruning: %d\" % (len(vectz_data.columns)))"
   ]
  },
  {
   "cell_type": "markdown",
   "metadata": {},
   "source": [
    "## Logistic Regression\n",
    "The parameter \"C\" has been set to a very large number, which decreases the effectiveness of the regularization.\n",
    "This is to ensure for this round l2 regularization does not come into play."
   ]
  },
  {
   "cell_type": "code",
   "execution_count": 5,
   "metadata": {},
   "outputs": [
    {
     "name": "stdout",
     "output_type": "stream",
     "text": [
      "Mean accuracy of the model is: 0.79\n",
      "\n",
      "Accuracy standard deviation for the model is: 0.03\n",
      "\n",
      "----------------------------------------\n",
      "\n",
      "Accuracy on training set: 1.000\n",
      "\n",
      "Accuracy on test set: 0.791\n",
      "\n",
      "RMSE of test set: 0.458\n"
     ]
    },
    {
     "data": {
      "image/png": "[encoded data removed]",
      "text/plain": [
       "<matplotlib.figure.Figure at 0x7f5061245a20>"
      ]
     },
     "metadata": {},
     "output_type": "display_data"
    }
   ],
   "source": [
    "from sklearn.metrics import confusion_matrix, make_scorer\n",
    "from sklearn.model_selection import cross_val_score\n",
    "from sklearn import metrics\n",
    "\n",
    "y = sntmnt.result\n",
    "logreg = LogisticRegression(C=1e9)\n",
    "results = cross_val_score(logreg, X, y, cv=15)\n",
    "\n",
    "print(\"Mean accuracy of the model is: {:.2f}\\n\".format(np.mean(results)))\n",
    "print(\"Accuracy standard deviation for the model is: {:.2f}\\n\".format(np.std(results)))\n",
    "print(\"%s\" % ('-' * 40))\n",
    "# Fit the model and get predictions so that we can get the confusion matrix\n",
    "X_train, X_test, y_train, y_test = train_test_split(X, y, random_state=42)\n",
    "fit = logreg.fit(X_train, y_train)\n",
    "predictions = logreg.predict(X_test)\n",
    "cnfsn_mtrx = metrics.confusion_matrix(y_test, predictions)\n",
    "print(\"\\nAccuracy on training set: {:.3f}\".format(logreg.score(X_train, y_train)))\n",
    "print(\"\\nAccuracy on test set: {:.3f}\".format(logreg.score(X_test, y_test)))\n",
    "\n",
    "print('\\nRMSE of test set: %.3f' % (np.sqrt(metrics.mean_squared_error(y_test, predictions))) )\n",
    "\n",
    "# Display heatmap of confusion matrix\n",
    "_ = sb.heatmap(cnfsn_mtrx, annot=True, fmt=\"d\")\n",
    "_ = plt.title(\"Logistic Regression: Test Set Confusion Matrix\")"
   ]
  },
  {
   "cell_type": "markdown",
   "metadata": {},
   "source": [
    "The plain logistic regression has a sensitivity of .81 and specificity of .77 and a misclassification rate of .21.  Not a very accurate  model for classifying sentiment. "
   ]
  },
  {
   "cell_type": "markdown",
   "metadata": {},
   "source": [
    "## Ridge logistic regression\n",
    "Carried out by specifying the ‘l2’ for the penalty parameters and leaving the parameter C to its default."
   ]
  },
  {
   "cell_type": "code",
   "execution_count": 6,
   "metadata": {
    "scrolled": false
   },
   "outputs": [
    {
     "name": "stdout",
     "output_type": "stream",
     "text": [
      "Ridge Mean accuracy of the model is: 0.83\n",
      "\n",
      "Rideg Accuracy standard deviation for the model is: 0.03\n",
      "\n",
      "----------------------------------------\n",
      "\n",
      "Ridge Accuracy on training set: 0.975\n",
      "\n",
      "Ridge Accuracy on test set: 0.841\n",
      "\n",
      "Ridge RMSE of test set: 0.398\n"
     ]
    },
    {
     "data": {
      "image/png": "[encoded data removed]",
      "text/plain": [
       "<matplotlib.figure.Figure at 0x7f506117fdd8>"
      ]
     },
     "metadata": {},
     "output_type": "display_data"
    }
   ],
   "source": [
    "logreg = LogisticRegression(penalty='l2', C=.95)\n",
    "results = cross_val_score(logreg, X, y, cv=15)\n",
    "\n",
    "print(\"Ridge Mean accuracy of the model is: {:.2f}\\n\".format(np.mean(results)))\n",
    "print(\"Rideg Accuracy standard deviation for the model is: {:.2f}\\n\".format(np.std(results)))\n",
    "print(\"%s\" % ('-' * 40))\n",
    "# Fit the model and get predictions so that we can get the confusion matrix\n",
    "X_train, X_test, y_train, y_test = train_test_split(X, y, random_state=42)\n",
    "fit = logreg.fit(X_train, y_train)\n",
    "predictions = logreg.predict(X_test)\n",
    "cnfsn_mtrx = metrics.confusion_matrix(y_test, predictions)\n",
    "print(\"\\nRidge Accuracy on training set: {:.3f}\".format(logreg.score(X_train, y_train)))\n",
    "print(\"\\nRidge Accuracy on test set: {:.3f}\".format(logreg.score(X_test, y_test)))\n",
    "\n",
    "print('\\nRidge RMSE of test set: %.3f' % (np.sqrt(metrics.mean_squared_error(y_test, predictions))) )\n",
    "\n",
    "# Display heatmap of confusion matrix\n",
    "_ = sb.heatmap(cnfsn_mtrx, annot=True, fmt=\"d\")\n",
    "_ = plt.title(\"Logistic Regression with l2 regularization: Test Set Confusion Matrix\")"
   ]
  },
  {
   "cell_type": "markdown",
   "metadata": {},
   "source": [
    "The logistic regression with l2 regularization has a sensitivity of .84 and specificity of .84 and a misclassification rate of .16.  A slightly better model than the baseline logistic regression, but ideally we would like to have a False positive and a False negative values to be both zero. "
   ]
  },
  {
   "cell_type": "code",
   "execution_count": 9,
   "metadata": {},
   "outputs": [
    {
     "data": {
      "image/png": "[encoded data removed]",
      "text/plain": [
       "<matplotlib.figure.Figure at 0x7f505e87ca20>"
      ]
     },
     "metadata": {},
     "output_type": "display_data"
    }
   ],
   "source": [
    "# Calculate the residuals for Homoscedasticity display.\n",
    "residuals = y_test - predictions\n",
    "\n",
    "plt.scatter(predictions, residuals)\n",
    "plt.xlabel('Predicted')\n",
    "plt.ylabel('Residual')\n",
    "plt.axhline(y=0)\n",
    "plt.title('Residual vs. Predicted')\n",
    "plt.show()"
   ]
  },
  {
   "cell_type": "markdown",
   "metadata": {},
   "source": [
    "## LASSO logistric regression\n",
    "Carried out by specifying the ‘l1’ for the penalty parameters and leaving the parameter C to its default."
   ]
  },
  {
   "cell_type": "code",
   "execution_count": 10,
   "metadata": {},
   "outputs": [
    {
     "name": "stdout",
     "output_type": "stream",
     "text": [
      "LASSO Mean accuracy of the model is: 0.80\n",
      "\n",
      "LASSO Accuracy standard deviation for the model is: 0.04\n",
      "\n",
      "----------------------------------------\n",
      "\n",
      "LASSO Accuracy on training set: 0.910\n",
      "\n",
      "LASSO Accuracy on test set: 0.835\n",
      "\n",
      "LASSO RMSE of test set: 0.407\n"
     ]
    },
    {
     "data": {
      "image/png": "[encoded data removed]",
      "text/plain": [
       "<matplotlib.figure.Figure at 0x7f505e7332e8>"
      ]
     },
     "metadata": {},
     "output_type": "display_data"
    }
   ],
   "source": [
    "logreg = LogisticRegression(penalty='l1', C=.95)\n",
    "results = cross_val_score(logreg, X, y, cv=15)\n",
    "\n",
    "print(\"LASSO Mean accuracy of the model is: {:.2f}\\n\".format(np.mean(results)))\n",
    "print(\"LASSO Accuracy standard deviation for the model is: {:.2f}\\n\".format(np.std(results)))\n",
    "print(\"%s\" % ('-' * 40))\n",
    "# Fit the model and get predictions so that we can get the confusion matrix\n",
    "X_train, X_test, y_train, y_test = train_test_split(X, y, random_state=42)\n",
    "fit = logreg.fit(X_train, y_train)\n",
    "predictions = logreg.predict(X_test)\n",
    "cnfsn_mtrx = metrics.confusion_matrix(y_test, predictions)\n",
    "print(\"\\nLASSO Accuracy on training set: {:.3f}\".format(logreg.score(X_train, y_train)))\n",
    "print(\"\\nLASSO Accuracy on test set: {:.3f}\".format(logreg.score(X_test, y_test)))\n",
    "\n",
    "print('\\nLASSO RMSE of test set: %.3f' % (np.sqrt(metrics.mean_squared_error(y_test, predictions))) )\n",
    "\n",
    "# Display heatmap of confusion matrix\n",
    "_ = sb.heatmap(cnfsn_mtrx, annot=True, fmt=\"d\")\n",
    "_ = plt.title(\"Logistic Regression with l1 regularization: Test Set Confusion Matrix\")"
   ]
  },
  {
   "cell_type": "markdown",
   "metadata": {},
   "source": [
    "The logistic regression with l1 regularization has a sensitivity of .82  and specificity of .85 and a misclassification rate of .17.  A slightly worse model than that of the logistic regression with l2 regularization."
   ]
  },
  {
   "cell_type": "markdown",
   "metadata": {},
   "source": [
    "## Conclusions\n",
    "\n",
    "Three models, logistic regression, l1 and l2 regularization, were used to analysis negative and positive sentiment from product review web sites.\n",
    "\n",
    "The logistic regression performed the poorest among the three.  The model had the highest Root Mean Squared Error. There was overfitting when comparing results between the accuracy of the training and test data sets.  It also had the highest misclassification rate when compared to the other models. \n",
    "\n",
    "All models revealed some amount of overfitting.\n",
    "The logistic regression with l2  regularization (Ridge logistic regression) out performed the other two models. It has the lowest RMSE at 0.0398 and lowest misclassification rate of 0.16. \n",
    "\n",
    "The logistic regression with l1 regularization (LASSO logistic regression) performed marginally better than the plain logistic regression.  The l2 regularization out performed the two other variants perhaps due to the high level of correlated features.   Reducing the coefficients of correlated features towards similar values.  \n",
    "\n",
    "After the sentence data has been tokenized the data set has over 5000 features. The resulting dataset is a large spares matrix containing only binary data points.  Each feature is not of a normal distribution and therefore the errors will not have a normal distribution.   There are possibly many features that have high degree of multicollinearity as there are some set of words that are most likely going to appear together in sentences with positive or negative sentiment.\n",
    "\n",
    "In short considering the dataset , logistic regression and its variants are not the right model for sentiment analysis.  The requirements of linearity, multivariate normality of the residuals, homoscedasticity  and low multicollinearity can not be met with the data.\n"
   ]
  },
  {
   "cell_type": "markdown",
   "metadata": {},
   "source": [
    "## References\n",
    "\n",
    "1. https://archive.ics.uci.edu/ml/datasets/Sentiment+Labelled+Sentences\n"
   ]
  }
 ],
 "metadata": {
  "kernelspec": {
   "display_name": "Python 3",
   "language": "python",
   "name": "python3"
  },
  "language_info": {
   "codemirror_mode": {
    "name": "ipython",
    "version": 3
   },
   "file_extension": ".py",
   "mimetype": "text/x-python",
   "name": "python",
   "nbconvert_exporter": "python",
   "pygments_lexer": "ipython3",
   "version": "3.5.2"
  }
 },
 "nbformat": 4,
 "nbformat_minor": 2
}
