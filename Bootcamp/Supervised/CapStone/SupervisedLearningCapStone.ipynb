{
 "cells": [
  {
   "cell_type": "markdown",
   "metadata": {},
   "source": [
    "Thinkful Bootcamp Course\n",
    "\n",
    "Author: Ian Heaton\n",
    "\n",
    "Email: iheaton@gmail.com\n",
    "\n",
    "Mentor: Nemanja Radojkovic\n",
    "\n",
    "Date: 2017/05/08\n"
   ]
  },
  {
   "cell_type": "code",
   "execution_count": 2,
   "metadata": {
    "collapsed": true
   },
   "outputs": [],
   "source": [
    "from IPython.display import display\n",
    "import pandas as pd\n",
    "import numpy as np\n",
    "import matplotlib.pyplot as plt\n",
    "import seaborn as sb\n",
    "import statsmodels.api as sm\n",
    "from scipy import stats, integrate\n",
    "from sklearn.feature_selection import VarianceThreshold\n",
    "from sklearn import ensemble\n",
    "from sklearn.model_selection import cross_val_score\n",
    "from scipy.stats import boxcox\n",
    "from sklearn import preprocessing\n",
    "\n",
    "%matplotlib inline\n",
    "\n",
    "sb.set_style('darkgrid')\n",
    "my_dpi = 96\n",
    "\n",
    "import warnings\n",
    "warnings.filterwarnings(\"ignore\", category=DeprecationWarning)"
   ]
  },
  {
   "cell_type": "markdown",
   "metadata": {},
   "source": [
    "# Software Bug Prediction through metrics \n",
    "\n",
    "\n",
    "## Question:\n",
    "\n",
    "Can the Chidamber & Kemerer software metrics be used to accurately predict the number of bugs in software? \n",
    "\n",
    "\n",
    "### Data:\n",
    "\n",
    "Data comes from the Tera-PROMOSE repository for Software Engineering research website [4].\n",
    "The website houses a section of CK metrics for a number software projects. For each of the 33 projects there is one or more CSV files containing CK software metrics computed for each class definition within the project.   All metrics hosted at the website where harvested from projects programed in the Java programming language.\n",
    "\n",
    "The Data used for this study was a smaller subset of the 33. Fourteen projects where used. These 14 where comprised of both academic and professional software projects. Most coming the Apache Software Foundation. The metric data was concatenated from 14 CSV files into a single CSV file for easier manipulation.  \n",
    "\n",
    "The 14 projects are;\n",
    "1. Arc\n",
    "2. Ant\n",
    "3. Berek\n",
    "4. Camel\n",
    "5. Ckjm\n",
    "6. Ivy\n",
    "7. JEdit\n",
    "8. Lucene\n",
    "9. log4j\n",
    "10. Nieruchomosci\n",
    "11. Tomcat\n",
    "12. Velocity\n",
    "13. Xalan\n",
    "14. Xerces\n",
    "\n",
    "The above data can [be found at](http://openscience.us/repo/defect/ck/).  The metric data was hosted by Italian researchers interested in using the project metrics to perform clustering in order  to  identify  groups  of  software  projects  with  similar  characteristic  from  the  defect  prediction  point  of  view [5].\n",
    "\n",
    "\n",
    "\n",
    "### Context:\n",
    "\n",
    "Computers are ubiquitous. In everything from house appliances to motor vehicles.  The software run on these computers has become extremely complex and large tasked with controlling driverless cars to flying multiple drones simultaneously. With this increased software complexity comes higher rates of software bugs.  Many bugs do not get identified and corrected before the software is released. The cost of correcting a software bug increases as the defect passes through the later phases of the Software Development life cycle [6]. \n",
    "\n",
    "Machine learning can help identify which pieces of software have higher rates of defects thus allowing teams to focus their testing resources on those portions of the software. Therefore, reducing costs. In addition, defect prediction  can be used address short comings in design that can be used to address later projects. \n",
    "\n",
    "\n",
    "### Content:\n",
    "\n",
    "The Chidamber and Kemerer (C&K) Metrics were designed to assess the quality of Object Oriented programming languages [2].  The metrics were first proposed in 1994 when the only commercially significant Object-Oriented languages were Smalltalk and C++. Chidamber and Kemerer used a two commercial applications (one in C++ and one in Smalltalk) to assess the validity of their metrics.\n",
    "\n",
    "Although measuring the amount of reuse a code base contains is frequently mentioned this was not the initial aim of of the metrics. They had read Grady Booch's 'Object Oriented Design with Applications' and were looking for a set of metrics that would assist this design approach. The idea was that the metrics would allow a designer to compare one potential design against another and predict which would be better. This meant that the metrics would have to be capable of being based on a design rather than code. Another interesting point was that C&K firmly believed in a practical commercial approach stating '0bject Oriented design metrics should offer needed insights into whether developers are following 00 principles in their designs.\n",
    "\n",
    "\n",
    "\n",
    " + Weighted Methods per Class - The value of the WMC is equal  to  the  number  of  methods  in  the  class  (assuming  unity weights for all methods).\n",
    "\n",
    "\n",
    "+ Depth of Inheritance Tree - The number of class definitions from the top of the class hierarchy to the leaf.\n",
    "\n",
    "\n",
    "+ Number of Children - The number of immediate descendants of the class under question.\n",
    "\n",
    "\n",
    "+ Coupling between classes - Represents the number of classes coupled to a given class (efferent  couplings  and  afferent  couplings). These  couplings  can  occur  through  method  calls, field  accesses,  inheritance,  method  arguments, return types, and exceptions.\n",
    "\n",
    "\n",
    "+ Response for a Class - Measures the number of different methods that can be executed when an instance of that class has an interface method invoked. Transitive closure of the method call graph.\n",
    "\n",
    "\n",
    "+ Lack of Cohesion in Methods - Counts the sets of methods in a class that are not related through the sharing of some of the class attributes. Attempts to measure of how well the methods of the class co-operate to achieve the aims of the class.\n",
    "\n",
    "\n",
    "+ Lack of Cohesion 3 (LCOM3) - Metric  proposed by Henderson-Sellars. LCOM3 is calculated by (numMethods -numAccesses/numInstVars)/(numMethods-1) where numMethods is the number of methods in the class, numAccesses is the number of methods in a class that access an instance variable and numInstvars is the number of instance variables.\n",
    "\n",
    "\n",
    "+ Number of Public Methods - The methods in a class that are declared as public. The metric is known also as Class Interface Size (CIS).\n",
    "\n",
    "\n",
    "+ Inheritance Coupling - The number of parent classes to which a given class is coupled.\n",
    "\n",
    "\n",
    "+ Measure of Functional Abstraction - The ratio of the number of methods inherited by a class to the total number of methods accessible by the member methods of the class.\n",
    "\n",
    "\n",
    "+ Average Method Complexity - This metric measures the average method size for each class.\n",
    "\n",
    "\n",
    "+ Afferent couplings - The number of classes that depend upon the measured class. \n",
    "\n",
    "\n",
    "+ Efferent couplings - The number of classes that the measured class is depended upon.\n",
    "\n",
    "\n",
    "+ Lines of Code - The number of lines of code in the Java binary code of the class under investigation.\n",
    "\n",
    "\n",
    "+ Data Access Metric - The ratio of the number of private (protected) attributes to the total number of attributes declared in the class.\n",
    "\n",
    "\n",
    "+  Cohesion Among Methods of Class - The relatedness among methods of a class based upon the parameter list of the methods. The metric is computed using the summation of number of different types of method  parameters in every method divided by a multiplication of number of different method parameter types in whole class and number of methods. \n",
    "\n",
    "\n",
    "+ Coupling Between Methods - Measures the total number of new/redefined methods to which all the inherited methods are coupled. There is a coupling when at least one of the conditions given in the IC metric is held.\n",
    "\n",
    "\n",
    "+ Max cyclomatic complexity - The max complexity of all methods comprising a class. It is a quantitative measure of the number of linearly independent paths through a program's source code.\n",
    "\n",
    "\n",
    "+ Average Cyclomatic complexity - The average complexity of all methods comprising a class. It is a quantitative measure of the number of linearly independent paths through a program's source code.\n",
    "\n",
    "\n",
    "+ Measure of Aggregation - The extent of the part-whole relationship, realized by using attributes. The metric is a count of the number of class fields whose types are user defined classes.\n",
    "\n",
    "\n",
    "+ Number of Bugs - Programmatically gleamed from source code repository logs. According to the log content decides whether a commit is a bugfix. A commit is interpreted as a bugfix when it solves an issue reported in the bug tracking system.\n"
   ]
  },
  {
   "cell_type": "code",
   "execution_count": 4,
   "metadata": {},
   "outputs": [
    {
     "name": "stdout",
     "output_type": "stream",
     "text": [
      "\n",
      "Observations : 5727\n",
      "Features : 22\n"
     ]
    }
   ],
   "source": [
    "# Read CSV containing software metrics data\n",
    "data_file = '/media/ianh/space/ThinkfulData/PredictingSoftwareBugs/std_and_trans_metrics.csv'\n",
    "metrics = pd.read_csv(data_file)\n",
    "print(\"\\nObservations : %d\\nFeatures : %d\" % (metrics.shape[0], metrics.shape[1]))"
   ]
  },
  {
   "cell_type": "markdown",
   "metadata": {},
   "source": [
    "## Preprocessing and exploratory data analysis\n",
    "\n",
    "The software metrics dataset has been read from a CSV that has already had a far amount of exploratory data analysis and preprocessing carried out.  The notebook housing these steps can be found [here](https://github.com/315iah515/Thinkful-Notebooks/blob/master/Bootcamp/Supervised/CapStone/SupervisedCapstoneExploratory.ipynb).\n",
    "\n",
    "This has been done for brevity.  All features have been standardized except for for the target variable.  Standardization of the features offers a number of advantages.  First, all metrics now have the same scale and can be easily compared.  Secondly, decision trees and random forests are one of the very few machine learning algorithms that do not require feature scaling and due to the nature of the question we hope to answer it is likely that some form of Regression model will be employed.\n",
    "\n",
    "Fifteen of the features are discrete in nature while the remaining 6 are continuous. \n",
    "Most features have a exponential distribution with positive outliers.  Some features have a geometric distribution.  These descriptions apply to the original state of the data before transformation. Please see the link above for more detail. \n",
    "\n",
    "\n",
    "\n"
   ]
  },
  {
   "cell_type": "code",
   "execution_count": null,
   "metadata": {
    "collapsed": true
   },
   "outputs": [],
   "source": []
  },
  {
   "cell_type": "code",
   "execution_count": null,
   "metadata": {
    "collapsed": true
   },
   "outputs": [],
   "source": []
  },
  {
   "cell_type": "code",
   "execution_count": null,
   "metadata": {
    "collapsed": true
   },
   "outputs": [],
   "source": []
  },
  {
   "cell_type": "code",
   "execution_count": null,
   "metadata": {
    "collapsed": true
   },
   "outputs": [],
   "source": []
  },
  {
   "cell_type": "markdown",
   "metadata": {},
   "source": [
    "## Conclusions"
   ]
  },
  {
   "cell_type": "markdown",
   "metadata": {},
   "source": [
    "## References\n",
    "\n",
    "1. http://openscience.us/repo/index.html\n",
    "2. Chidamber, S.R.; Kemerer, C.F. IEEE Transactions on Software Engineering Volume 20, Issue 6, Jun 1994 Page(s):476 - 493\n",
    "3. http://openscience.us/repo/defect/ck/\n",
    "4. Menzies, T., Krishna, R., Pryor, D. (2016). The Promise Repository of Empirical Software Engineering Data; http://openscience.us/repo. North Carolina State University, Department of Computer Science\n",
    "5. http://madeyski.e-informatyka.pl/download/JureczkoMadeyski10f.pdf\n",
    "6. Cigital, \"Case study: Finding defects earlier yields enormous savings,\" Available at www.cigital.com, 2003\n",
    "\n"
   ]
  },
  {
   "cell_type": "code",
   "execution_count": null,
   "metadata": {
    "collapsed": true
   },
   "outputs": [],
   "source": []
  }
 ],
 "metadata": {
  "kernelspec": {
   "display_name": "Python 3",
   "language": "python",
   "name": "python3"
  },
  "language_info": {
   "codemirror_mode": {
    "name": "ipython",
    "version": 3
   },
   "file_extension": ".py",
   "mimetype": "text/x-python",
   "name": "python",
   "nbconvert_exporter": "python",
   "pygments_lexer": "ipython3",
   "version": "3.5.2"
  }
 },
 "nbformat": 4,
 "nbformat_minor": 2
}
