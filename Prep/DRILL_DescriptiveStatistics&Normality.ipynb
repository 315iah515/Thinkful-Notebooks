{
 "cells": [
  {
   "cell_type": "code",
   "execution_count": 2,
   "metadata": {
    "collapsed": true
   },
   "outputs": [],
   "source": [
    "import pandas as pd\n",
    "import matplotlib.pyplot as plt\n",
    "import numpy as np\n",
    "import statistics\n",
    "import math\n",
    "\n",
    "%matplotlib inline"
   ]
  },
  {
   "cell_type": "markdown",
   "metadata": {},
   "source": [
    "## First distribution : Multinomial\n"
   ]
  },
  {
   "cell_type": "markdown",
   "metadata": {},
   "source": [
    "The multinomial distribution is a multivariate generalisation of the binomial distribution.\n",
    "Throw one die 100 times."
   ]
  },
  {
   "cell_type": "code",
   "execution_count": 22,
   "metadata": {
    "collapsed": false
   },
   "outputs": [
    {
     "data": {
      "text/html": [
       "<div>\n",
       "<table border=\"1\" class=\"dataframe\">\n",
       "  <thead>\n",
       "    <tr style=\"text-align: right;\">\n",
       "      <th></th>\n",
       "      <th>random dice roll</th>\n",
       "      <th>die</th>\n",
       "    </tr>\n",
       "  </thead>\n",
       "  <tbody>\n",
       "    <tr>\n",
       "      <th>0</th>\n",
       "      <td>14</td>\n",
       "      <td>1</td>\n",
       "    </tr>\n",
       "    <tr>\n",
       "      <th>1</th>\n",
       "      <td>18</td>\n",
       "      <td>2</td>\n",
       "    </tr>\n",
       "    <tr>\n",
       "      <th>2</th>\n",
       "      <td>23</td>\n",
       "      <td>3</td>\n",
       "    </tr>\n",
       "    <tr>\n",
       "      <th>3</th>\n",
       "      <td>15</td>\n",
       "      <td>4</td>\n",
       "    </tr>\n",
       "    <tr>\n",
       "      <th>4</th>\n",
       "      <td>18</td>\n",
       "      <td>5</td>\n",
       "    </tr>\n",
       "    <tr>\n",
       "      <th>5</th>\n",
       "      <td>12</td>\n",
       "      <td>6</td>\n",
       "    </tr>\n",
       "  </tbody>\n",
       "</table>\n",
       "</div>"
      ],
      "text/plain": [
       "   random dice roll  die\n",
       "0                14    1\n",
       "1                18    2\n",
       "2                23    3\n",
       "3                15    4\n",
       "4                18    5\n",
       "5                12    6"
      ]
     },
     "execution_count": 22,
     "metadata": {},
     "output_type": "execute_result"
    }
   ],
   "source": [
    "df = pd.DataFrame({'random dice roll':np.random.multinomial(100, [1/6.]*6)})\n",
    "df['die'] = [1, 2, 3, 4, 5, 6]\n",
    "df"
   ]
  },
  {
   "cell_type": "code",
   "execution_count": 40,
   "metadata": {
    "collapsed": false
   },
   "outputs": [
    {
     "name": "stdout",
     "output_type": "stream",
     "text": [
      "mean : 16.666667\n",
      "standard deviation : 3.881580\n"
     ]
    },
    {
     "data": {
      "image/png": "[encoded data removed]",
      "text/plain": [
       "<matplotlib.figure.Figure at 0x7f76215edac8>"
      ]
     },
     "metadata": {},
     "output_type": "display_data"
    }
   ],
   "source": [
    "mean = sum(df['random dice roll'])/len(df['random dice roll'])\n",
    "sd = np.std(df['random dice roll'], ddof=1)\n",
    "print('mean : %f' % mean)\n",
    "print('standard deviation : %f' % sd)\n",
    "plt.hist(df['random dice roll'])\n",
    "# Add a vertical line at the mean\n",
    "plt.axvline(mean, color='g', linestyle='solid', linewidth=2)\n",
    "\n",
    "# Add a vertical line at one standard deviation above the mean.\n",
    "plt.axvline(mean + sd, color='g', linestyle='dashed', linewidth=2)\n",
    "\n",
    "#Add a vertical line at one standard deviation below the mean.\n",
    "plt.axvline(mean - sd, color='g', linestyle='dashed', linewidth=2)\n",
    "plt.show()"
   ]
  },
  {
   "cell_type": "markdown",
   "metadata": {},
   "source": [
    "Obviously from the histogram the dataset does not represent normal distribution.  The mean is not zero and the standard deviation is not 1. "
   ]
  },
  {
   "cell_type": "markdown",
   "metadata": {},
   "source": [
    "# Second Distribution : Beta"
   ]
  },
  {
   "cell_type": "markdown",
   "metadata": {},
   "source": [
    "In probability theory and statistics, the beta distribution is a family of continuous probability distributions defined on the interval [0, 1] parametrized by two positive shape parameters, denoted by α and β, that appear as exponents of the random variable and control the shape of the distribution."
   ]
  },
  {
   "cell_type": "code",
   "execution_count": 38,
   "metadata": {
    "collapsed": false
   },
   "outputs": [
    {
     "name": "stdout",
     "output_type": "stream",
     "text": [
      "mean : 0.281003\n",
      "standard deviation : 0.161373\n"
     ]
    },
    {
     "data": {
      "image/png": "[encoded data removed]",
      "text/plain": [
       "<matplotlib.figure.Figure at 0x7f7621c7f7f0>"
      ]
     },
     "metadata": {},
     "output_type": "display_data"
    }
   ],
   "source": [
    "beta_data = np.random.beta(a=2, b=5, size=100)\n",
    "mean = np.mean(beta_data)\n",
    "sd = np.std(beta_data, ddof=1)\n",
    "print('mean : %f' % mean)\n",
    "print('standard deviation : %f' % sd)\n",
    "plt.hist(beta_data)\n",
    "# Add a vertical line at the mean\n",
    "plt.axvline(mean, color='g', linestyle='solid', linewidth=2)\n",
    "\n",
    "# Add a vertical line at one standard deviation above the mean.\n",
    "plt.axvline(mean + sd, color='g', linestyle='dashed', linewidth=2)\n",
    "\n",
    "#Add a vertical line at one standard deviation below the mean.\n",
    "plt.axvline(mean - sd, color='g', linestyle='dashed', linewidth=2)\n",
    "plt.show()"
   ]
  },
  {
   "cell_type": "markdown",
   "metadata": {},
   "source": [
    "Yes the descriptive statistics provide information about the distribution. The mean is close to zero but the standard deviation is not one, in fact it is almost zero. The histogram is not symmetrical about the mean. "
   ]
  },
  {
   "cell_type": "markdown",
   "metadata": {},
   "source": [
    "## Thrid Distirbution : Gamma"
   ]
  },
  {
   "cell_type": "markdown",
   "metadata": {},
   "source": [
    "The Gamma distribution is often used to model the times to failure of electronic components, and arises naturally in processes for which the waiting times between Poisson distributed events are relevant. The gamma distribution represents the time until an event (such as lifespan until death), when the event starts out unlikely (few people die in youth), becomes more likely (more people die in old age), then becomes less likely again (few people die in extreme old age because most have already died)."
   ]
  },
  {
   "cell_type": "code",
   "execution_count": 39,
   "metadata": {
    "collapsed": false
   },
   "outputs": [
    {
     "name": "stdout",
     "output_type": "stream",
     "text": [
      "mean : 2.960192\n",
      "standard deviation : 1.764785\n"
     ]
    },
    {
     "data": {
      "image/png": "[encoded data removed]",
      "text/plain": [
       "<matplotlib.figure.Figure at 0x7f7621cf9278>"
      ]
     },
     "metadata": {},
     "output_type": "display_data"
    }
   ],
   "source": [
    "gamma = np.random.gamma(3 ,1, 100)\n",
    "mean = np.mean(gamma)\n",
    "sd = np.std(gamma, ddof=1)\n",
    "print('mean : %f' % mean)\n",
    "print('standard deviation : %f' % sd)\n",
    "plt.hist(gamma)\n",
    "plt.axvline(mean, color='g', linestyle='solid', linewidth=2)\n",
    "plt.axvline(mean + sd, color='g', linestyle='dashed', linewidth=2)\n",
    "plt.axvline(mean - sd, color='g', linestyle='dashed', linewidth=2)\n",
    "plt.show()"
   ]
  },
  {
   "cell_type": "code",
   "execution_count": null,
   "metadata": {
    "collapsed": true
   },
   "outputs": [],
   "source": []
  },
  {
   "cell_type": "markdown",
   "metadata": {},
   "source": [
    "## Fourth Distribution : Exponential"
   ]
  },
  {
   "cell_type": "markdown",
   "metadata": {},
   "source": [
    "Is the probability distribution that describes the time between events in a Poisson process, i.e. a process in which events occur continuously and independently at a constant average rate. An example is the number of miles that a particular car can run before its battery wears out is exponentially distributed with an average of 10,000 miles"
   ]
  },
  {
   "cell_type": "code",
   "execution_count": 42,
   "metadata": {
    "collapsed": false
   },
   "outputs": [
    {
     "name": "stdout",
     "output_type": "stream",
     "text": [
      "mean : 0.924919\n",
      "standard deviation : 0.942080\n"
     ]
    },
    {
     "data": {
      "image/png": "[encoded data removed]",
      "text/plain": [
       "<matplotlib.figure.Figure at 0x7f7621c130f0>"
      ]
     },
     "metadata": {},
     "output_type": "display_data"
    }
   ],
   "source": [
    "exponential = np.random.exponential(size=100)\n",
    "mean = np.mean(exponential)\n",
    "sd = np.std(exponential, ddof=1)\n",
    "print('mean : %f' % mean)\n",
    "print('standard deviation : %f' % sd)\n",
    "plt.hist(exponential)\n",
    "plt.axvline(mean, color='g', linestyle='solid', linewidth=2)\n",
    "plt.axvline(mean + sd, color='g', linestyle='dashed', linewidth=2)\n",
    "plt.axvline(mean - sd, color='g', linestyle='dashed', linewidth=2)\n",
    "plt.show()"
   ]
  },
  {
   "cell_type": "code",
   "execution_count": null,
   "metadata": {
    "collapsed": true
   },
   "outputs": [],
   "source": []
  },
  {
   "cell_type": "markdown",
   "metadata": {},
   "source": [
    "## Fifth Distribution : Geometric"
   ]
  },
  {
   "cell_type": "markdown",
   "metadata": {},
   "source": [
    "Consider a sequence of trials, where each trial has only two possible outcomes (designated failure and success). The probability of success is assumed to be the same for each trial. In such a sequence of trials, the geometric distribution is useful to model the number of failures before the first success. \n",
    "An example is a newly-wed couple plans to have children, and will continue until the first girl. What is the probability that there are zero boys before the first girl, one boy before the first girl, two boys before the first girl, and so on?"
   ]
  },
  {
   "cell_type": "code",
   "execution_count": 43,
   "metadata": {
    "collapsed": false
   },
   "outputs": [
    {
     "name": "stdout",
     "output_type": "stream",
     "text": [
      "mean : 2.280000\n",
      "standard deviation : 1.869911\n"
     ]
    },
    {
     "data": {
      "image/png": "[encoded data removed]",
      "text/plain": [
       "<matplotlib.figure.Figure at 0x7f7621b916a0>"
      ]
     },
     "metadata": {},
     "output_type": "display_data"
    }
   ],
   "source": [
    "geometric = np.random.geometric(p=0.45, size=100)\n",
    "mean = np.mean(geometric)\n",
    "sd = np.std(geometric, ddof=1)\n",
    "print('mean : %f' % mean)\n",
    "print('standard deviation : %f' % sd)\n",
    "plt.hist(geometric)\n",
    "plt.axvline(mean, color='g', linestyle='solid', linewidth=2)\n",
    "plt.axvline(mean + sd, color='g', linestyle='dashed', linewidth=2)\n",
    "plt.axvline(mean - sd, color='g', linestyle='dashed', linewidth=2)\n",
    "plt.show()"
   ]
  },
  {
   "cell_type": "code",
   "execution_count": null,
   "metadata": {
    "collapsed": true
   },
   "outputs": [],
   "source": []
  },
  {
   "cell_type": "markdown",
   "metadata": {},
   "source": [
    "## Sixth Distribution : Lognormal"
   ]
  },
  {
   "cell_type": "markdown",
   "metadata": {},
   "source": [
    "The log-normal distribution is important in the description of natural phenomena. This follows, because many natural growth processes are driven by the accumulation of many small percentage changes. These become additive on a log scale. If the effect of any one change is negligible, the central limit theorem says that the distribution of their sum is more nearly normal than that of the summands. "
   ]
  },
  {
   "cell_type": "code",
   "execution_count": 5,
   "metadata": {
    "collapsed": false
   },
   "outputs": [
    {
     "name": "stdout",
     "output_type": "stream",
     "text": [
      "mean : 1.724279\n",
      "standard deviation : 2.073719\n"
     ]
    },
    {
     "data": {
      "image/png": "[encoded data removed]",
      "text/plain": [
       "<matplotlib.figure.Figure at 0x7f96c17ae588>"
      ]
     },
     "metadata": {},
     "output_type": "display_data"
    }
   ],
   "source": [
    "mu, sigma = 0., 1. # mean and standard deviation\n",
    "lognormal = np.random.lognormal(mu, sigma, 100)\n",
    "mean = np.mean(lognormal)\n",
    "sd = np.std(lognormal, ddof=1)\n",
    "print('mean : %f' % mean)\n",
    "print('standard deviation : %f' % sd)\n",
    "plt.hist(lognormal)\n",
    "plt.axvline(mean, color='g', linestyle='solid', linewidth=2)\n",
    "plt.axvline(mean + sd, color='g', linestyle='dashed', linewidth=2)\n",
    "plt.axvline(mean - sd, color='g', linestyle='dashed', linewidth=2)\n",
    "plt.show()"
   ]
  },
  {
   "cell_type": "markdown",
   "metadata": {},
   "source": [
    "The log-normal distribution's histogram is similar to shape to the Exponential and Geometric histograms but is not a normal distribution. "
   ]
  },
  {
   "cell_type": "markdown",
   "metadata": {},
   "source": [
    "One observation is that the closer the mean and standard deviation are to each other in value and greater then zero more of the data points are distributed in the right half of the histogram or low end of the histogram. "
   ]
  },
  {
   "cell_type": "markdown",
   "metadata": {},
   "source": [
    "## Two normally-distributed variables"
   ]
  },
  {
   "cell_type": "code",
   "execution_count": null,
   "metadata": {
    "collapsed": true
   },
   "outputs": [],
   "source": []
  }
 ],
 "metadata": {
  "kernelspec": {
   "display_name": "Python 3",
   "language": "python",
   "name": "python3"
  },
  "language_info": {
   "codemirror_mode": {
    "name": "ipython",
    "version": 3
   },
   "file_extension": ".py",
   "mimetype": "text/x-python",
   "name": "python",
   "nbconvert_exporter": "python",
   "pygments_lexer": "ipython3",
   "version": "3.5.2"
  }
 },
 "nbformat": 4,
 "nbformat_minor": 1
}
