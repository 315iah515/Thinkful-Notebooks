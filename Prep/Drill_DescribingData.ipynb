{
 "cells": [
  {
   "cell_type": "markdown",
   "metadata": {},
   "source": [
    "# Summarizing Data"
   ]
  },
  {
   "cell_type": "code",
   "execution_count": 7,
   "metadata": {
    "collapsed": true
   },
   "outputs": [],
   "source": [
    "import pandas as pd\n",
    "import matplotlib.pyplot as plt\n",
    "import numpy as np\n",
    "import statistics\n",
    "import math\n",
    "\n",
    "%matplotlib inline"
   ]
  },
  {
   "cell_type": "markdown",
   "metadata": {},
   "source": [
    "1. Measures of Central Tendency for the ages of the Brady Bunch Kids"
   ]
  },
  {
   "cell_type": "code",
   "execution_count": 21,
   "metadata": {
    "collapsed": false
   },
   "outputs": [],
   "source": [
    "brady_bunch_kids = [14, 12, 11, 10, 8, 8, 6]\n",
    "mean = sum(brady_bunch_kids)/len(brady_bunch_kids)\n",
    "median = np.median(brady_bunch_kids)\n",
    "mode = statistics.mode(brady_bunch_kids)\n",
    "variance = np.var(brady_bunch_kids)\n",
    "sd = np.std(brady_bunch_kids, ddof=1)\n",
    "se = np.std(brady_bunch_kids, ddof=1) / np.sqrt(len(brady_bunch_kids))"
   ]
  },
  {
   "cell_type": "code",
   "execution_count": 22,
   "metadata": {
    "collapsed": false
   },
   "outputs": [
    {
     "name": "stdout",
     "output_type": "stream",
     "text": [
      "mean : 9.857143\n",
      "median : 10.000000\n",
      "mode : 8.000000\n",
      "variance : 6.408163\n",
      "standard deviation : 2.734262\n",
      "standard error : 1.033454\n"
     ]
    }
   ],
   "source": [
    "print('mean : %f' % mean)\n",
    "print('median : %f' % median)\n",
    "print('mode : %f' % mode)\n",
    "print('variance : %f' % variance)\n",
    "print('standard deviation : %f' % sd)\n",
    "print('standard error : %f' % se)\n",
    "\n"
   ]
  },
  {
   "cell_type": "markdown",
   "metadata": {},
   "source": [
    "From the statistics mentioned above the median is the best estimate of central tendency for the dataset. The median is more robust against outliers than the mean and the number of data points is few also making the mean more susceptible.  Not all datasets have a mode and in this case the mode is too close in value the minimum of the data set.  "
   ]
  },
  {
   "cell_type": "markdown",
   "metadata": {},
   "source": [
    "2. The better estimate"
   ]
  },
  {
   "cell_type": "markdown",
   "metadata": {},
   "source": [
    "The standard deviation is the better measure of spread for the dataset.  The standard deviation is the spread about the mean and is in the same units of the data making it easier to describe the data. The variance is not in the same scale as the data and not in the same units making it harder to talk about. "
   ]
  },
  {
   "cell_type": "markdown",
   "metadata": {},
   "source": [
    "3. The effect of updating Cindy's age on the statistics"
   ]
  },
  {
   "cell_type": "markdown",
   "metadata": {},
   "source": [
    "Altering Cindy’s age to 7 would have little impact on the measurements of central tendency as her age is already the minimum of the dataset taking the range from 8 to 7.  The reduction in the difference from the mean would slightly reduce the spread of the data, specifically the variance and the standard deviation."
   ]
  },
  {
   "cell_type": "markdown",
   "metadata": {},
   "source": [
    "4. Substituting a 1 year old into the dataset of ages"
   ]
  },
  {
   "cell_type": "code",
   "execution_count": 24,
   "metadata": {
    "collapsed": false
   },
   "outputs": [],
   "source": [
    "brady_bunch_kids = [14, 12, 11, 10, 8, 1, 6]\n",
    "mean = sum(brady_bunch_kids)/len(brady_bunch_kids)\n",
    "median = np.median(brady_bunch_kids)\n",
    "#mode = statistics.mode(brady_bunch_kids)\n",
    "variance = np.var(brady_bunch_kids)\n",
    "sd = np.std(brady_bunch_kids, ddof=1)\n",
    "se = np.std(brady_bunch_kids, ddof=1) / np.sqrt(len(brady_bunch_kids))"
   ]
  },
  {
   "cell_type": "code",
   "execution_count": 25,
   "metadata": {
    "collapsed": false
   },
   "outputs": [
    {
     "name": "stdout",
     "output_type": "stream",
     "text": [
      "mean : 8.857143\n",
      "median : 10.000000\n",
      "variance : 16.122449\n",
      "standard deviation : 4.336995\n",
      "standard error : 1.639230\n"
     ]
    }
   ],
   "source": [
    "print('mean : %f' % mean)\n",
    "print('median : %f' % median)\n",
    "print('variance : %f' % variance)\n",
    "print('standard deviation : %f' % sd)\n",
    "print('standard error : %f' % se)\n",
    "\n"
   ]
  },
  {
   "cell_type": "markdown",
   "metadata": {},
   "source": [
    "Altering the dataset with the new data point skews the spread of the data resulting from the mean being impacted by the new minimum value. Obviously all the measurements based on the mean are altered. The range goes from 8 to 13. As was mentioned previously the median is still the best measurement of central tendency for this dataset as it is not susceptible to outliers."
   ]
  },
  {
   "cell_type": "markdown",
   "metadata": {},
   "source": [
    "5. 50th Anniversary"
   ]
  },
  {
   "cell_type": "code",
   "execution_count": null,
   "metadata": {
    "collapsed": true
   },
   "outputs": [],
   "source": []
  }
 ],
 "metadata": {
  "kernelspec": {
   "display_name": "Python 3",
   "language": "python",
   "name": "python3"
  },
  "language_info": {
   "codemirror_mode": {
    "name": "ipython",
    "version": 3
   },
   "file_extension": ".py",
   "mimetype": "text/x-python",
   "name": "python",
   "nbconvert_exporter": "python",
   "pygments_lexer": "ipython3",
   "version": "3.5.2"
  }
 },
 "nbformat": 4,
 "nbformat_minor": 1
}
